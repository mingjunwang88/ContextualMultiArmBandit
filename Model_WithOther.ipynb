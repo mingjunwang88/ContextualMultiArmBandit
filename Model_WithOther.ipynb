{
 "cells": [
  {
   "cell_type": "code",
   "execution_count": 1,
   "metadata": {},
   "outputs": [],
   "source": [
    "import os\n",
    "from pyspark import SparkContext, SparkConf\n",
    "from pyspark.sql import SparkSession\n",
    "import matplotlib.pyplot as plt\n",
    "\n",
    "import sagemaker\n",
    "from sagemaker import get_execution_role\n",
    "import sagemaker_pyspark\n",
    "import boto3\n",
    "\n",
    "role = get_execution_role()\n",
    "\n",
    "# Configure Spark to use the SageMaker Spark dependency jars\n",
    "jars = sagemaker_pyspark.classpath_jars()\n",
    "\n",
    "classpath = \":\".join(sagemaker_pyspark.classpath_jars())\n",
    "\n",
    "# See the SageMaker Spark Github repo under sagemaker-pyspark-sdk\n",
    "# to learn how to connect to a remote EMR cluster running Spark from a Notebook Instance.\n",
    "spark = SparkSession.builder.config(\"spark.driver.extraClassPath\", classpath).getOrCreate()\n",
    "#spark = SparkSession.builder.config(\"spark.driver.extraClassPath\", classpath).master(\"local[*]\").getOrCreate()\n",
    "\n",
    "import pandas as pd\n",
    "import numpy as np\n",
    "import re\n",
    "import sys\n",
    "from sklearn.model_selection import train_test_split\n",
    "\n",
    "import torch\n",
    "import torch.nn as nn\n",
    "import torch.nn.functional as F\n",
    "from torch.utils.data import Dataset, DataLoader\n",
    "\n",
    "batch_size = 126"
   ]
  },
  {
   "cell_type": "markdown",
   "metadata": {},
   "source": [
    "### 1: Train Model with Behavior and Content Data with 5 Layers"
   ]
  },
  {
   "cell_type": "code",
   "execution_count": 3,
   "metadata": {},
   "outputs": [
    {
     "data": {
      "text/plain": [
       "['spark/sandbox/mingjun/ORtrainCSV/_SUCCESS',\n",
       " 'spark/sandbox/mingjun/ORtrainCSV/part-00000-ace753b3-99a7-4b7d-9208-2db591cf18bd-c000.csv']"
      ]
     },
     "execution_count": 3,
     "metadata": {},
     "output_type": "execute_result"
    }
   ],
   "source": [
    "#df_train = spark.read.format('parquet').load('s3a://fetch-data-puddle/spark/sandbox/mingjun/ORtrain/').sample(0.01)\n",
    "#df_test = spark.read.format('parquet').load('s3a://fetch-data-puddle/spark/sandbox/mingjun/ORtest/')\n",
    "def read_prefix_to_df(prefix):\n",
    "    s3 = boto3.resource('s3')\n",
    "    bucket = s3.Bucket('fetch-data-puddle')\n",
    "    prefix_objs = bucket.objects.filter(Prefix=prefix)\n",
    "    prefix_df = []\n",
    "    for obj in prefix_objs:\n",
    "        key = obj.key\n",
    "        prefix_df.append(key)\n",
    "        #body = obj.get()['Body'].read()\n",
    "        #df = pd.DataFrame(body)\n",
    "        #prefix_df.append(df)\n",
    "    #return pd.concat(prefix_df)\n",
    "    return prefix_df\n",
    "read_prefix_to_df('spark/sandbox/mingjun/ORtrainCSV')"
   ]
  },
  {
   "cell_type": "code",
   "execution_count": 4,
   "metadata": {},
   "outputs": [
    {
     "name": "stdout",
     "output_type": "stream",
     "text": [
      "spark/sandbox/mingjun/ORtrainCSV/part-00000-ace753b3-99a7-4b7d-9208-2db591cf18bd-c000.csv\n",
      "spark/sandbox/mingjun/ORtestCSV/part-00000-4937e451-82b7-4161-986f-daf792106165-c000.csv\n",
      "spark/sandbox/mingjun/ORotherCSV/part-00000-16c7370a-bcf8-43d3-b71f-722526f462c2-c000.csv\n"
     ]
    }
   ],
   "source": [
    "def DowloandfileS3(inpt, out):\n",
    "    bucketname = 'fetch-data-puddle' # replace with your bucket name\n",
    "    s3 = boto3.resource('s3')\n",
    "    s3.Bucket(bucketname).download_file(inpt, out)\n",
    "path_train = read_prefix_to_df('spark/sandbox/mingjun/ORtrainCSV')[1]\n",
    "print (path_train)\n",
    "DowloandfileS3(path_train,'../train.csv')\n",
    "\n",
    "path_test = read_prefix_to_df('spark/sandbox/mingjun/ORtestCSV')[1]\n",
    "print (path_test)\n",
    "DowloandfileS3(path_test,'../test.csv')\n",
    "\n",
    "path_other = read_prefix_to_df('spark/sandbox/mingjun/ORotherCSV')[1]\n",
    "print (path_other)\n",
    "DowloandfileS3(path_other,'../other.csv')"
   ]
  },
  {
   "cell_type": "code",
   "execution_count": 8,
   "metadata": {},
   "outputs": [
    {
     "name": "stdout",
     "output_type": "stream",
     "text": [
      "Index(['user_id', 'offer_id', 'redeem_date', 'cat_brand_sums[0]',\n",
      "       'cat_brand_sums[1]', 'cat_brand_sums[2]', 'cat_brand_sums[3]',\n",
      "       'cat_brand_sums[4]', 'cat_brand_sums[5]', 'cat_brand_sums[6]',\n",
      "       ...\n",
      "       'id_catBrd_1081', 'id_catBrd_1082', 'id_catBrd_1083', 'id_catBrd_1084',\n",
      "       'id_catBrd_1085', 'id_catBrd_1086', 'id_catBrd_1087', 'id_catBrd_1088',\n",
      "       'id_catBrd_1089', 'target'],\n",
      "      dtype='object', length=2287)\n",
      "Index(['user_id', 'offer_id', 'redeem_date', 'facebook_authhot_[0]',\n",
      "       'facebook_authhot_[1]', 'google_authhot_[0]', 'google_authhot_[1]',\n",
      "       'statehot_[0]', 'statehot_[1]', 'statehot_[2]', 'statehot_[3]',\n",
      "       'statehot_[4]', 'statehot_[5]', 'statehot_[6]', 'statehot_[7]',\n",
      "       'statehot_[8]', 'statehot_[9]', 'statehot_[10]', 'statehot_[11]',\n",
      "       'statehot_[12]', 'statehot_[13]', 'statehot_[14]', 'statehot_[15]',\n",
      "       'statehot_[16]', 'statehot_[17]', 'statehot_[18]', 'statehot_[19]',\n",
      "       'statehot_[20]', 'statehot_[21]', 'statehot_[22]', 'statehot_[23]',\n",
      "       'statehot_[24]', 'statehot_[25]', 'statehot_[26]', 'statehot_[27]',\n",
      "       'statehot_[28]', 'statehot_[29]', 'statehot_[30]', 'statehot_[31]',\n",
      "       'statehot_[32]', 'statehot_[33]', 'statehot_[34]', 'statehot_[35]',\n",
      "       'statehot_[36]', 'statehot_[37]', 'statehot_[38]', 'statehot_[39]',\n",
      "       'statehot_[40]', 'statehot_[41]', 'statehot_[42]', 'statehot_[43]',\n",
      "       'statehot_[44]', 'statehot_[45]', 'statehot_[46]', 'statehot_[47]',\n",
      "       'statehot_[48]', 'statehot_[49]', 'statehot_[50]', 'statehot_[51]',\n",
      "       'statehot_[52]', 'alcohot_[0]', 'alcohot_[1]', 'value', 'user_age',\n",
      "       'id_cat_dollars', 'id_cat_units', 'id_cat_offers', 'id_cat_tenure',\n",
      "       'id_cat_recency', 'id_cat_points', 'id_total_dollars', 'id_total_units',\n",
      "       'id_total_offers', 'id_tenure', 'id_recency', 'life',\n",
      "       'total_offer_dollars', 'total_offer_units', 'total_offers', 'age',\n",
      "       'velocity', 'total_cat_offer_dollars', 'total_cat_offer_units',\n",
      "       'total_cat_offers', 'velocity_cat'],\n",
      "      dtype='object')\n",
      "(60480, 2287)\n",
      "(6781, 2287)\n",
      "(67261, 85)\n"
     ]
    }
   ],
   "source": [
    "train = pd.read_csv('../train.csv', header=0)\n",
    "\n",
    "test = pd.read_csv('../test.csv', header=0)\n",
    "print (test.columns)\n",
    "\n",
    "other = pd.read_csv('../other.csv', header=0)\n",
    "print (other.columns)\n",
    "\n",
    "print (train.shape)\n",
    "print (test.shape)\n",
    "print (other.shape)"
   ]
  },
  {
   "cell_type": "code",
   "execution_count": 9,
   "metadata": {},
   "outputs": [
    {
     "name": "stdout",
     "output_type": "stream",
     "text": [
      "(67261, 66)\n",
      "(60480, 2287)\n"
     ]
    },
    {
     "data": {
      "text/html": [
       "<div>\n",
       "<style scoped>\n",
       "    .dataframe tbody tr th:only-of-type {\n",
       "        vertical-align: middle;\n",
       "    }\n",
       "\n",
       "    .dataframe tbody tr th {\n",
       "        vertical-align: top;\n",
       "    }\n",
       "\n",
       "    .dataframe thead th {\n",
       "        text-align: right;\n",
       "    }\n",
       "</style>\n",
       "<table border=\"1\" class=\"dataframe\">\n",
       "  <thead>\n",
       "    <tr style=\"text-align: right;\">\n",
       "      <th></th>\n",
       "      <th>user_id</th>\n",
       "      <th>offer_id</th>\n",
       "      <th>redeem_date</th>\n",
       "      <th>facebook_authhot_[0]</th>\n",
       "      <th>facebook_authhot_[1]</th>\n",
       "      <th>google_authhot_[0]</th>\n",
       "      <th>google_authhot_[1]</th>\n",
       "      <th>statehot_[0]</th>\n",
       "      <th>statehot_[1]</th>\n",
       "      <th>statehot_[2]</th>\n",
       "      <th>...</th>\n",
       "      <th>statehot_[49]</th>\n",
       "      <th>statehot_[50]</th>\n",
       "      <th>statehot_[51]</th>\n",
       "      <th>statehot_[52]</th>\n",
       "      <th>alcohot_[0]</th>\n",
       "      <th>alcohot_[1]</th>\n",
       "      <th>value</th>\n",
       "      <th>life</th>\n",
       "      <th>age</th>\n",
       "      <th>user_age</th>\n",
       "    </tr>\n",
       "  </thead>\n",
       "  <tbody>\n",
       "    <tr>\n",
       "      <th>0</th>\n",
       "      <td>57d4d05ae4b0a807bde28019</td>\n",
       "      <td>5dd4305ba2e51b3e0e91d85d</td>\n",
       "      <td>2019-11-21</td>\n",
       "      <td>1.0</td>\n",
       "      <td>0.0</td>\n",
       "      <td>1.0</td>\n",
       "      <td>0.0</td>\n",
       "      <td>1.0</td>\n",
       "      <td>0.0</td>\n",
       "      <td>0.0</td>\n",
       "      <td>...</td>\n",
       "      <td>0.0</td>\n",
       "      <td>0.0</td>\n",
       "      <td>0.0</td>\n",
       "      <td>0.0</td>\n",
       "      <td>0.0</td>\n",
       "      <td>1.0</td>\n",
       "      <td>1.0</td>\n",
       "      <td>1</td>\n",
       "      <td>2</td>\n",
       "      <td>43</td>\n",
       "    </tr>\n",
       "    <tr>\n",
       "      <th>1</th>\n",
       "      <td>59b372d7e4b08eb3b4028787</td>\n",
       "      <td>5dd439cb41cfc43b0e7a1407</td>\n",
       "      <td>2019-11-21</td>\n",
       "      <td>0.0</td>\n",
       "      <td>1.0</td>\n",
       "      <td>1.0</td>\n",
       "      <td>0.0</td>\n",
       "      <td>0.0</td>\n",
       "      <td>0.0</td>\n",
       "      <td>0.0</td>\n",
       "      <td>...</td>\n",
       "      <td>0.0</td>\n",
       "      <td>0.0</td>\n",
       "      <td>0.0</td>\n",
       "      <td>0.0</td>\n",
       "      <td>1.0</td>\n",
       "      <td>0.0</td>\n",
       "      <td>1.0</td>\n",
       "      <td>1</td>\n",
       "      <td>2</td>\n",
       "      <td>43</td>\n",
       "    </tr>\n",
       "    <tr>\n",
       "      <th>2</th>\n",
       "      <td>59c048a3e4b01ead606c78ae</td>\n",
       "      <td>5e128f5f56b90222fc2548b3</td>\n",
       "      <td>2020-02-05</td>\n",
       "      <td>1.0</td>\n",
       "      <td>0.0</td>\n",
       "      <td>1.0</td>\n",
       "      <td>0.0</td>\n",
       "      <td>0.0</td>\n",
       "      <td>0.0</td>\n",
       "      <td>0.0</td>\n",
       "      <td>...</td>\n",
       "      <td>0.0</td>\n",
       "      <td>0.0</td>\n",
       "      <td>0.0</td>\n",
       "      <td>0.0</td>\n",
       "      <td>1.0</td>\n",
       "      <td>0.0</td>\n",
       "      <td>0.5</td>\n",
       "      <td>28</td>\n",
       "      <td>29</td>\n",
       "      <td>42</td>\n",
       "    </tr>\n",
       "    <tr>\n",
       "      <th>3</th>\n",
       "      <td>59d5648fe4b0bf935cf6e235</td>\n",
       "      <td>5d937813eca44d1154639bc8</td>\n",
       "      <td>2019-10-22</td>\n",
       "      <td>0.0</td>\n",
       "      <td>1.0</td>\n",
       "      <td>1.0</td>\n",
       "      <td>0.0</td>\n",
       "      <td>0.0</td>\n",
       "      <td>0.0</td>\n",
       "      <td>0.0</td>\n",
       "      <td>...</td>\n",
       "      <td>0.0</td>\n",
       "      <td>0.0</td>\n",
       "      <td>0.0</td>\n",
       "      <td>0.0</td>\n",
       "      <td>1.0</td>\n",
       "      <td>0.0</td>\n",
       "      <td>0.5</td>\n",
       "      <td>20</td>\n",
       "      <td>21</td>\n",
       "      <td>38</td>\n",
       "    </tr>\n",
       "    <tr>\n",
       "      <th>4</th>\n",
       "      <td>59f72499e4b008f419dd15b8</td>\n",
       "      <td>5dc59366ace420773fa5d66c</td>\n",
       "      <td>2019-11-30</td>\n",
       "      <td>0.0</td>\n",
       "      <td>1.0</td>\n",
       "      <td>1.0</td>\n",
       "      <td>0.0</td>\n",
       "      <td>1.0</td>\n",
       "      <td>0.0</td>\n",
       "      <td>0.0</td>\n",
       "      <td>...</td>\n",
       "      <td>0.0</td>\n",
       "      <td>0.0</td>\n",
       "      <td>0.0</td>\n",
       "      <td>0.0</td>\n",
       "      <td>0.0</td>\n",
       "      <td>1.0</td>\n",
       "      <td>0.5</td>\n",
       "      <td>16</td>\n",
       "      <td>17</td>\n",
       "      <td>57</td>\n",
       "    </tr>\n",
       "  </tbody>\n",
       "</table>\n",
       "<p>5 rows × 66 columns</p>\n",
       "</div>"
      ],
      "text/plain": [
       "                    user_id                  offer_id redeem_date  \\\n",
       "0  57d4d05ae4b0a807bde28019  5dd4305ba2e51b3e0e91d85d  2019-11-21   \n",
       "1  59b372d7e4b08eb3b4028787  5dd439cb41cfc43b0e7a1407  2019-11-21   \n",
       "2  59c048a3e4b01ead606c78ae  5e128f5f56b90222fc2548b3  2020-02-05   \n",
       "3  59d5648fe4b0bf935cf6e235  5d937813eca44d1154639bc8  2019-10-22   \n",
       "4  59f72499e4b008f419dd15b8  5dc59366ace420773fa5d66c  2019-11-30   \n",
       "\n",
       "   facebook_authhot_[0]  facebook_authhot_[1]  google_authhot_[0]  \\\n",
       "0                   1.0                   0.0                 1.0   \n",
       "1                   0.0                   1.0                 1.0   \n",
       "2                   1.0                   0.0                 1.0   \n",
       "3                   0.0                   1.0                 1.0   \n",
       "4                   0.0                   1.0                 1.0   \n",
       "\n",
       "   google_authhot_[1]  statehot_[0]  statehot_[1]  statehot_[2]  ...  \\\n",
       "0                 0.0           1.0           0.0           0.0  ...   \n",
       "1                 0.0           0.0           0.0           0.0  ...   \n",
       "2                 0.0           0.0           0.0           0.0  ...   \n",
       "3                 0.0           0.0           0.0           0.0  ...   \n",
       "4                 0.0           1.0           0.0           0.0  ...   \n",
       "\n",
       "   statehot_[49]  statehot_[50]  statehot_[51]  statehot_[52]  alcohot_[0]  \\\n",
       "0            0.0            0.0            0.0            0.0          0.0   \n",
       "1            0.0            0.0            0.0            0.0          1.0   \n",
       "2            0.0            0.0            0.0            0.0          1.0   \n",
       "3            0.0            0.0            0.0            0.0          1.0   \n",
       "4            0.0            0.0            0.0            0.0          0.0   \n",
       "\n",
       "   alcohot_[1]  value  life  age  user_age  \n",
       "0          1.0    1.0     1    2        43  \n",
       "1          0.0    1.0     1    2        43  \n",
       "2          0.0    0.5    28   29        42  \n",
       "3          0.0    0.5    20   21        38  \n",
       "4          1.0    0.5    16   17        57  \n",
       "\n",
       "[5 rows x 66 columns]"
      ]
     },
     "metadata": {},
     "output_type": "display_data"
    }
   ],
   "source": [
    "other_keep = ['user_id', 'offer_id', 'redeem_date', 'facebook_authhot_[0]', 'facebook_authhot_[1]', 'google_authhot_[0]', 'google_authhot_[1]', 'statehot_[0]', \n",
    "              'statehot_[1]', 'statehot_[2]', 'statehot_[3]', 'statehot_[4]', 'statehot_[5]', 'statehot_[6]', 'statehot_[7]', 'statehot_[8]', 'statehot_[9]', \n",
    "              'statehot_[10]', 'statehot_[11]', 'statehot_[12]', 'statehot_[13]', 'statehot_[14]', 'statehot_[15]', 'statehot_[16]', 'statehot_[17]', 'statehot_[18]', \n",
    "              'statehot_[19]', 'statehot_[20]', 'statehot_[21]', 'statehot_[22]', 'statehot_[23]', 'statehot_[24]', 'statehot_[25]', 'statehot_[26]', 'statehot_[27]', \n",
    "              'statehot_[28]', 'statehot_[29]', 'statehot_[30]', 'statehot_[31]', 'statehot_[32]', 'statehot_[33]', 'statehot_[34]', 'statehot_[35]', 'statehot_[36]', \n",
    "              'statehot_[37]', 'statehot_[38]', 'statehot_[39]', 'statehot_[40]', 'statehot_[41]', 'statehot_[42]', 'statehot_[43]', 'statehot_[44]', 'statehot_[45]', \n",
    "              'statehot_[46]', 'statehot_[47]', 'statehot_[48]', 'statehot_[49]', 'statehot_[50]', 'statehot_[51]', 'statehot_[52]', 'alcohot_[0]', 'alcohot_[1]', \n",
    "              'value', 'life', 'age','user_age']\n",
    "\n",
    "other = other[other_keep]\n",
    "print (other.shape)\n",
    "print (train.shape)\n",
    "display(other.head(5))"
   ]
  },
  {
   "cell_type": "code",
   "execution_count": 10,
   "metadata": {},
   "outputs": [
    {
     "name": "stdout",
     "output_type": "stream",
     "text": [
      "Index(['user_id', 'offer_id', 'redeem_date', 'facebook_authhot_[0]',\n",
      "       'facebook_authhot_[1]', 'google_authhot_[0]', 'google_authhot_[1]',\n",
      "       'statehot_[0]', 'statehot_[1]', 'statehot_[2]',\n",
      "       ...\n",
      "       'id_catBrd_1081', 'id_catBrd_1082', 'id_catBrd_1083', 'id_catBrd_1084',\n",
      "       'id_catBrd_1085', 'id_catBrd_1086', 'id_catBrd_1087', 'id_catBrd_1088',\n",
      "       'id_catBrd_1089', 'target'],\n",
      "      dtype='object', length=2350)\n",
      "(60480, 2350)\n"
     ]
    }
   ],
   "source": [
    "#x_train, x_test, y_train, y_test = train_test_split(train.drop(train.columns[]).values.astype(float), train[[u'target']].values, test_size=0.10, random_state=100)\n",
    "\n",
    "train = pd.merge(other, train, on=['user_id', 'offer_id', 'redeem_date'],how='right').fillna(0)\n",
    "test = pd.merge(other, test, on=['user_id', 'offer_id', 'redeem_date'],how='right').fillna(0)\n",
    "print (train.columns)\n",
    "print (train.shape)"
   ]
  },
  {
   "cell_type": "code",
   "execution_count": 11,
   "metadata": {},
   "outputs": [
    {
     "name": "stdout",
     "output_type": "stream",
     "text": [
      "(54432, 2346)\n",
      "(54432,)\n"
     ]
    }
   ],
   "source": [
    "X_vars = list(train.columns[3:-1])\n",
    "#print (len(X_vars))\n",
    "x_train, x_test, y_train, y_test = train_test_split(train[X_vars].values, train[list(train.columns)[-1]].values, test_size=0.10, random_state=100)\n",
    "print (x_train.shape)\n",
    "print (y_train.shape)\n",
    "n_columns = x_train.shape[1]"
   ]
  },
  {
   "cell_type": "code",
   "execution_count": 8,
   "metadata": {},
   "outputs": [
    {
     "name": "stdout",
     "output_type": "stream",
     "text": [
      "Number of training set:  54432\n",
      "Number of test data set:  6048\n"
     ]
    }
   ],
   "source": [
    "class ORDataset(Dataset):\n",
    "    ## Define the underline data source\n",
    "    def __init__(self, x, y):\n",
    "        self.x = x\n",
    "        self.y = y\n",
    "        \n",
    "    def __len__(self):\n",
    "        return len(self.y)\n",
    "        \n",
    "    def __getitem__(self, idx):\n",
    "        return torch.tensor(self.x[idx]), torch.tensor(self.y[idx])\n",
    "        \n",
    "dataset_train = ORDataset(x_train, y_train)\n",
    "\n",
    "print ('Number of training set: ', len(dataset_train))\n",
    "dataLoader_train = DataLoader(dataset_train, batch_size=batch_size, shuffle=True, num_workers=1)\n",
    "\n",
    "dataset_test = ORDataset(x_test, y_test)\n",
    "print ('Number of test data set: ', len(dataset_test))\n",
    "dataLoader_test = DataLoader(dataset_test, batch_size=len(y_test), shuffle=True, num_workers=1)"
   ]
  },
  {
   "cell_type": "code",
   "execution_count": 14,
   "metadata": {},
   "outputs": [],
   "source": [
    "if torch.cuda.is_available():\n",
    "    device = torch.device(\"cuda\" if torch.cuda.is_available() else \"cpu\")"
   ]
  },
  {
   "cell_type": "code",
   "execution_count": 15,
   "metadata": {},
   "outputs": [
    {
     "name": "stdout",
     "output_type": "stream",
     "text": [
      "Layer distribution:  [2346, 1173, 586, 293, 146]\n"
     ]
    }
   ],
   "source": [
    "### Define the model components\n",
    "class OfferRec(nn.Module):\n",
    "    def __init__(self, input_size, layers=5):\n",
    "        super(OfferRec, self).__init__()\n",
    "        \n",
    "        ##In this model, I am just using the several fc layers. the last layers is a scalar and through a sigmoid trnsformation.\n",
    "        dim_layers = []\n",
    "        \n",
    "        \n",
    "        for i in range(layers):\n",
    "            dim_layers.append(input_size // 2**i )\n",
    "        print ('Layer distribution: ', dim_layers)\n",
    "        \n",
    "        fc_blocks = [self.block(i, j) for i, j in zip(dim_layers, dim_layers[1:])]\n",
    "        \n",
    "        self.mc = nn.Sequential(*fc_blocks)\n",
    "        \n",
    "        self.linear = nn.Linear(dim_layers[-1], 1)\n",
    "    \n",
    "    def block(self, inpt, out):\n",
    "        return nn.Sequential (\n",
    "            nn.Linear(inpt, out),\n",
    "            nn.ReLU()\n",
    "            )\n",
    "\n",
    "    def forward(self, x):\n",
    "        ## x is the input tensor data\n",
    "        \n",
    "        out = self.mc(x)\n",
    "        out = self.linear(out)\n",
    "        out = torch.sigmoid(out)\n",
    "\n",
    "        return out\n",
    "\n",
    "loss_fn = nn.MSELoss()\n",
    "\n",
    "model = OfferRec(n_columns).to(device)\n",
    "optimizer = torch.optim.Adam(model.parameters(), lr=1e-4, weight_decay=1e-5)\n",
    "\n"
   ]
  },
  {
   "cell_type": "code",
   "execution_count": 11,
   "metadata": {},
   "outputs": [
    {
     "name": "stdout",
     "output_type": "stream",
     "text": [
      "epoch  10 loss:  2.684278985094352\n",
      "epoch  20 loss:  1.6259082393605695\n",
      "epoch  30 loss:  1.366502649136791\n",
      "epoch  40 loss:  0.8702043774917598\n",
      "epoch  50 loss:  0.8017300113211325\n",
      "epoch  60 loss:  0.9187509618001677\n",
      "epoch  70 loss:  0.8385194476739883\n",
      "epoch  80 loss:  0.7798511460030468\n",
      "epoch  90 loss:  0.5855417911077727\n",
      "epoch  100 loss:  0.7071591712291951\n"
     ]
    },
    {
     "data": {
      "text/plain": [
       "Text(0, 0.5, 'MSE')"
      ]
     },
     "execution_count": 11,
     "metadata": {},
     "output_type": "execute_result"
    },
    {
     "data": {
      "image/png": "[encoded data removed]",
      "text/plain": [
       "<Figure size 432x288 with 2 Axes>"
      ]
     },
     "metadata": {},
     "output_type": "display_data"
    }
   ],
   "source": [
    "#list_users_train, list_items_train, list_labels_train, list_cats_train, list_manus_train,list_states_train\n",
    "\n",
    "losses = []\n",
    "losses_test = []\n",
    "\n",
    "j= 0\n",
    "for epoch in range(100):\n",
    "    model.train()\n",
    "    total_loss = 0\n",
    "    for x, y in dataLoader_train:        \n",
    "        x, y = x.to(device), y.to(device)\n",
    "        model.zero_grad()\n",
    "\n",
    "        pred_prob = model(x.float())\n",
    "        loss = loss_fn(pred_prob, y.float().reshape(x.shape[0],1))\n",
    "        loss.backward()\n",
    "        optimizer.step()\n",
    "        total_loss += loss.item()\n",
    "    j=j+1\n",
    "    if j % 10 == 0:\n",
    "        print ('epoch ' , j, 'loss: ', total_loss)\n",
    "\n",
    "    losses.append(total_loss)\n",
    "\n",
    "    with torch.no_grad():\n",
    "        model.eval()\n",
    "        for x_t, y_t in dataLoader_test:\n",
    "            x_t, y_t = x_t.to(device), y_t.to(device)\n",
    "            pred_prob_test = model(x_t.float())\n",
    "            loss_test = loss_fn(pred_prob_test, y_t.float().reshape(x_t.shape[0],1))\n",
    "            loss_test = loss_test.item()\n",
    "        losses_test.append(loss_test)\n",
    "\n",
    "plt.subplot(2, 1, 1)\n",
    "plt.plot(losses)\n",
    "plt.title('Training Plot')\n",
    "plt.ylabel('MSE')\n",
    "\n",
    "plt.subplot(2, 1, 2)\n",
    "plt.plot(losses_test)\n",
    "plt.xlabel('Test Plot')\n",
    "plt.ylabel('MSE')\n",
    "\n"
   ]
  },
  {
   "cell_type": "code",
   "execution_count": 12,
   "metadata": {},
   "outputs": [
    {
     "name": "stdout",
     "output_type": "stream",
     "text": [
      "Layer distribution:  [2346, 1173, 586, 293, 146]\n"
     ]
    }
   ],
   "source": [
    "#Save ghe model\n",
    "torch.save(model.state_dict(),'../mode_other.tp')\n",
    "the_model = OfferRec(n_columns)\n",
    "#the_model.load_state_dict(torch.load(PATH))"
   ]
  },
  {
   "cell_type": "markdown",
   "metadata": {},
   "source": [
    "### Performance on the test dataset"
   ]
  },
  {
   "cell_type": "code",
   "execution_count": 17,
   "metadata": {},
   "outputs": [
    {
     "name": "stdout",
     "output_type": "stream",
     "text": [
      "Index(['user_id', 'offer_id', 'redeem_date', 'facebook_authhot_[0]',\n",
      "       'facebook_authhot_[1]', 'google_authhot_[0]', 'google_authhot_[1]',\n",
      "       'statehot_[0]', 'statehot_[1]', 'statehot_[2]',\n",
      "       ...\n",
      "       'id_catBrd_1081', 'id_catBrd_1082', 'id_catBrd_1083', 'id_catBrd_1084',\n",
      "       'id_catBrd_1085', 'id_catBrd_1086', 'id_catBrd_1087', 'id_catBrd_1088',\n",
      "       'id_catBrd_1089', 'target'],\n",
      "      dtype='object', length=2350)\n",
      "(6781, 2346)\n",
      "Layer distribution:  [2346, 1173, 586, 293, 146]\n",
      "torch.Size([6781, 1])\n"
     ]
    },
    {
     "data": {
      "text/html": [
       "<div>\n",
       "<style scoped>\n",
       "    .dataframe tbody tr th:only-of-type {\n",
       "        vertical-align: middle;\n",
       "    }\n",
       "\n",
       "    .dataframe tbody tr th {\n",
       "        vertical-align: top;\n",
       "    }\n",
       "\n",
       "    .dataframe thead th {\n",
       "        text-align: right;\n",
       "    }\n",
       "</style>\n",
       "<table border=\"1\" class=\"dataframe\">\n",
       "  <thead>\n",
       "    <tr style=\"text-align: right;\">\n",
       "      <th></th>\n",
       "      <th>prob</th>\n",
       "      <th>target</th>\n",
       "    </tr>\n",
       "  </thead>\n",
       "  <tbody>\n",
       "    <tr>\n",
       "      <th>0</th>\n",
       "      <td>1.293028e-14</td>\n",
       "      <td>0.0</td>\n",
       "    </tr>\n",
       "    <tr>\n",
       "      <th>1</th>\n",
       "      <td>1.000000e+00</td>\n",
       "      <td>1.0</td>\n",
       "    </tr>\n",
       "    <tr>\n",
       "      <th>2</th>\n",
       "      <td>1.832366e-07</td>\n",
       "      <td>0.0</td>\n",
       "    </tr>\n",
       "    <tr>\n",
       "      <th>3</th>\n",
       "      <td>1.083977e-07</td>\n",
       "      <td>0.0</td>\n",
       "    </tr>\n",
       "    <tr>\n",
       "      <th>4</th>\n",
       "      <td>3.009597e-06</td>\n",
       "      <td>0.0</td>\n",
       "    </tr>\n",
       "  </tbody>\n",
       "</table>\n",
       "</div>"
      ],
      "text/plain": [
       "           prob  target\n",
       "0  1.293028e-14     0.0\n",
       "1  1.000000e+00     1.0\n",
       "2  1.832366e-07     0.0\n",
       "3  1.083977e-07     0.0\n",
       "4  3.009597e-06     0.0"
      ]
     },
     "metadata": {},
     "output_type": "display_data"
    },
    {
     "name": "stdout",
     "output_type": "stream",
     "text": [
      "   rank  cnt          prob  target\n",
      "9     9  678  7.446672e-01   500.0\n",
      "8     8  678  1.574449e-04    12.0\n",
      "7     7  678  5.392464e-06     0.0\n",
      "6     6  678  1.471763e-06     1.0\n",
      "5     5  678  4.981808e-07     1.0\n",
      "4     4  678  1.443293e-07     1.0\n",
      "3     3  678  3.077625e-08     3.0\n",
      "2     2  678  3.250203e-09     0.0\n",
      "1     1  678  2.972582e-11     1.0\n",
      "0     0  679  1.503364e-15     3.0\n"
     ]
    },
    {
     "data": {
      "image/png": "[encoded data removed]",
      "text/plain": [
       "<Figure size 432x288 with 1 Axes>"
      ]
     },
     "metadata": {
      "needs_background": "light"
     },
     "output_type": "display_data"
    },
    {
     "data": {
      "image/png": "[encoded data removed]",
      "text/plain": [
       "<Figure size 432x288 with 1 Axes>"
      ]
     },
     "metadata": {
      "needs_background": "light"
     },
     "output_type": "display_data"
    }
   ],
   "source": [
    "print (test.columns)\n",
    "print (test.values[:,3:-1].shape)\n",
    "X_test_tensor = torch.from_numpy(test.values[:,3:-1].astype(float)).float()\n",
    "y_test_tensor = torch.from_numpy(test['target'].values)\n",
    "\n",
    "with torch.no_grad():\n",
    "    model = OfferRec(test.values[:,3:-1].shape[1])\n",
    "    model.load_state_dict(torch.load('../mode_other.tp'))\n",
    "    model.eval()\n",
    "    pred_prob = model(X_test_tensor)\n",
    "    print (pred_prob.shape)\n",
    "    pred = pd.DataFrame(torch.cat((pred_prob, y_test_tensor.float().reshape(-1,1)), 1).numpy(), columns = ['prob', 'target'])\n",
    "display(pred.head(n=5))\n",
    "\n",
    "from imp import reload \n",
    "import Model\n",
    "reload(Model)\n",
    "\n",
    "Lift = Model.ModelLift(c=10)\n",
    "lift = Lift.calLift(pred, target='target', prob='prob')\n",
    "Model.Plot(lift)"
   ]
  },
  {
   "cell_type": "markdown",
   "metadata": {},
   "source": [
    "### 2: Test RandomForest and Logistic Regression Performace on the same amount of the data"
   ]
  },
  {
   "cell_type": "code",
   "execution_count": 44,
   "metadata": {},
   "outputs": [
    {
     "name": "stderr",
     "output_type": "stream",
     "text": [
      "/home/ec2-user/anaconda3/envs/pytorch_p36/lib/python3.6/site-packages/sklearn/svm/base.py:931: ConvergenceWarning: Liblinear failed to converge, increase the number of iterations.\n",
      "  \"the number of iterations.\", ConvergenceWarning)\n"
     ]
    },
    {
     "data": {
      "text/plain": [
       "LogisticRegression(C=1.0, class_weight=None, dual=False, fit_intercept=True,\n",
       "          intercept_scaling=1, max_iter=300, multi_class='warn',\n",
       "          n_jobs=None, penalty='l2', random_state=None, solver='liblinear',\n",
       "          tol=0.0001, verbose=0, warm_start=False)"
      ]
     },
     "execution_count": 44,
     "metadata": {},
     "output_type": "execute_result"
    }
   ],
   "source": [
    "from sklearn.ensemble import RandomForestClassifier as RF\n",
    "from sklearn.linear_model import LogisticRegression as LR\n",
    "rfc = RFC(n_estimators = 100)\n",
    "rfc.fit(x_train, y_train)\n",
    "\n",
    "logit=LR(solver='liblinear',max_iter = 300)\n",
    "logit.fit(x_train,y_train)"
   ]
  },
  {
   "cell_type": "code",
   "execution_count": 17,
   "metadata": {},
   "outputs": [],
   "source": [
    "import pickle\n",
    "pickle.dump(rfc, open('../model_rfc.p','wb'))"
   ]
  },
  {
   "cell_type": "code",
   "execution_count": 26,
   "metadata": {},
   "outputs": [],
   "source": [
    "rfc = pickle.load(open('../model_rfc.p', 'rb'))\n",
    "pred = rfc.predict_proba(x_test)[:,1]\n",
    "pred_test = rfc.predict_proba(test[X_vars])[:,1]"
   ]
  },
  {
   "cell_type": "markdown",
   "metadata": {},
   "source": [
    "#### 2.1: Performance of Random Forest "
   ]
  },
  {
   "cell_type": "code",
   "execution_count": 41,
   "metadata": {},
   "outputs": [
    {
     "name": "stdout",
     "output_type": "stream",
     "text": [
      "   rank   cnt      prob  target\n",
      "6     6   334  0.830569     329\n",
      "5     5   338  0.543432     184\n",
      "4     4   334  0.153323       9\n",
      "3     3   271  0.047417       0\n",
      "2     2   206  0.030000       0\n",
      "1     1   334  0.020000       0\n",
      "0     0  4964  0.001547       0\n"
     ]
    },
    {
     "data": {
      "image/png": "[encoded data removed]",
      "text/plain": [
       "<Figure size 432x288 with 1 Axes>"
      ]
     },
     "metadata": {},
     "output_type": "display_data"
    },
    {
     "data": {
      "image/png": "[encoded data removed]",
      "text/plain": [
       "<Figure size 432x288 with 1 Axes>"
      ]
     },
     "metadata": {},
     "output_type": "display_data"
    }
   ],
   "source": [
    "from imp import reload \n",
    "import Model\n",
    "reload(Model)\n",
    "\n",
    "test['prob'] = pred_test\n",
    "#print (test.sort_values(by='prob', ascending = False)[0:100][['prob']])\n",
    "\n",
    "Lift = Model.ModelLift(c=20)\n",
    "lift = Lift.calLift(test, target='target', prob='prob')\n",
    "Model.Plot(lift)"
   ]
  },
  {
   "cell_type": "markdown",
   "metadata": {},
   "source": [
    "#### 2.2: Performace of Logistic Regression"
   ]
  },
  {
   "cell_type": "code",
   "execution_count": 46,
   "metadata": {},
   "outputs": [
    {
     "name": "stdout",
     "output_type": "stream",
     "text": [
      "    rank  cnt      prob  target\n",
      "19    19  339  0.995421     336\n",
      "18    18  339  0.336955     131\n",
      "17    17  339  0.077836       9\n",
      "16    16  339  0.051937       8\n",
      "15    15  339  0.039234       6\n",
      "14    14  339  0.030641       4\n",
      "13    13  339  0.025460       3\n",
      "12    12  339  0.021496       2\n",
      "11    11  339  0.018406       0\n",
      "10    10  339  0.015672       2\n"
     ]
    },
    {
     "data": {
      "image/png": "[encoded data removed]",
      "text/plain": [
       "<Figure size 432x288 with 1 Axes>"
      ]
     },
     "metadata": {},
     "output_type": "display_data"
    },
    {
     "data": {
      "image/png": "[encoded data removed]",
      "text/plain": [
       "<Figure size 432x288 with 1 Axes>"
      ]
     },
     "metadata": {},
     "output_type": "display_data"
    }
   ],
   "source": [
    "pred_test = logit.predict_proba(test[X_vars])[:,1]\n",
    "\n",
    "from imp import reload \n",
    "import Model\n",
    "reload(Model)\n",
    "\n",
    "test['prob'] = pred_test\n",
    "#print (test.sort_values(by='prob', ascending = False)[0:100][['prob']])\n",
    "\n",
    "Lift = Model.ModelLift(c=20)\n",
    "lift = Lift.calLift(test, target='target', prob='prob')\n",
    "Model.Plot(lift)"
   ]
  },
  {
   "cell_type": "code",
   "execution_count": null,
   "metadata": {},
   "outputs": [],
   "source": []
  },
  {
   "cell_type": "code",
   "execution_count": null,
   "metadata": {},
   "outputs": [],
   "source": []
  }
 ],
 "metadata": {
  "kernelspec": {
   "display_name": "conda_pytorch_p36",
   "language": "python",
   "name": "conda_pytorch_p36"
  },
  "language_info": {
   "codemirror_mode": {
    "name": "ipython",
    "version": 3
   },
   "file_extension": ".py",
   "mimetype": "text/x-python",
   "name": "python",
   "nbconvert_exporter": "python",
   "pygments_lexer": "ipython3",
   "version": "3.6.10"
  }
 },
 "nbformat": 4,
 "nbformat_minor": 4
}
