{
 "cells": [
  {
   "cell_type": "code",
   "execution_count": 2,
   "metadata": {},
   "outputs": [],
   "source": [
    "import os\n",
    "from pyspark import SparkContext, SparkConf\n",
    "from pyspark.sql import SparkSession\n",
    "import matplotlib.pyplot as plt\n",
    "\n",
    "import sagemaker\n",
    "from sagemaker import get_execution_role\n",
    "import sagemaker_pyspark\n",
    "import boto3\n",
    "\n",
    "#role = get_execution_role()\n",
    "\n",
    "# Configure Spark to use the SageMaker Spark dependency jars\n",
    "jars = sagemaker_pyspark.classpath_jars()\n",
    "\n",
    "classpath = \":\".join(sagemaker_pyspark.classpath_jars())\n",
    "\n",
    "# See the SageMaker Spark Github repo under sagemaker-pyspark-sdk\n",
    "# to learn how to connect to a remote EMR cluster running Spark from a Notebook Instance.\n",
    "spark = SparkSession.builder.config(\"spark.driver.extraClassPath\", classpath).getOrCreate()\n",
    "#spark = SparkSession.builder.config(\"spark.driver.extraClassPath\", classpath).master(\"local[*]\").getOrCreate()\n",
    "\n",
    "import pandas as pd\n",
    "import numpy as np\n",
    "import re\n",
    "import sys\n",
    "from sklearn.model_selection import train_test_split\n",
    "\n",
    "import torch\n",
    "import torch.nn as nn\n",
    "import torch.nn.functional as F\n",
    "from torch.utils.data import Dataset, DataLoader\n",
    "\n",
    "batch_size = 126"
   ]
  },
  {
   "cell_type": "code",
   "execution_count": 3,
   "metadata": {},
   "outputs": [],
   "source": [
    "path = 's3a://~mingjun/'\n",
    "\n",
    "#train = spark.read.csv(path + 'ORtrainCSV', header=True).toPandas()\n",
    "\n",
    "#test = spark.read.csv(path + 'ORtestCSV', header=True).toPandas()\n",
    "#display(train.columns)\n",
    "\n",
    "#other = spark.read.csv(path + 'ORotherCSV', header=True).toPandas()\n",
    "#display(train.columns)\n"
   ]
  },
  {
   "cell_type": "code",
   "execution_count": 4,
   "metadata": {},
   "outputs": [
    {
     "name": "stdout",
     "output_type": "stream",
     "text": [
      "(60480, 2282)\n",
      "(6781, 2282)\n"
     ]
    }
   ],
   "source": [
    "train = pd.read_csv('../train.csv', header=0).drop(['tenure_seeds', 'recency_seeds', 'dollars_seeds', 'units_seeds', 'trips_seeds',],axis=1)\n",
    "print (train.shape)\n",
    "\n",
    "test = pd.read_csv('../test.csv', header=0).drop(['tenure_seeds', 'recency_seeds', 'dollars_seeds', 'units_seeds', 'trips_seeds',],axis=1)\n",
    "print (test.shape)"
   ]
  },
  {
   "cell_type": "code",
   "execution_count": 5,
   "metadata": {},
   "outputs": [
    {
     "name": "stdout",
     "output_type": "stream",
     "text": [
      "(54432, 2278)\n",
      "(54432,)\n",
      "2278\n"
     ]
    }
   ],
   "source": [
    "X_vars = list(train.columns[3:-1])\n",
    "y_var = list(train.columns)[-1]\n",
    "#print (X_vars)\n",
    "#print (y_var)\n",
    "x_train, x_test, y_train, y_test = train_test_split(train[X_vars].values, train[y_var].values, test_size=0.10, random_state=100)\n",
    "print (x_train.shape)\n",
    "print (y_train.shape)\n",
    "n_columns = x_train.shape[1]\n",
    "print (n_columns)"
   ]
  },
  {
   "cell_type": "code",
   "execution_count": 6,
   "metadata": {},
   "outputs": [
    {
     "name": "stdout",
     "output_type": "stream",
     "text": [
      "Number of training set:  54432\n",
      "Number of test data set:  6048\n"
     ]
    }
   ],
   "source": [
    "class ORDataset(Dataset):\n",
    "    ## Define the underline data source\n",
    "    def __init__(self, x, y):\n",
    "        self.x = x\n",
    "        self.y = y\n",
    "        \n",
    "    def __len__(self):\n",
    "        return len(self.y)\n",
    "        \n",
    "    def __getitem__(self, idx):\n",
    "        return torch.tensor(self.x[idx]), torch.tensor(self.y[idx])\n",
    "        \n",
    "dataset_train = ORDataset(x_train, y_train)\n",
    "\n",
    "print ('Number of training set: ', len(dataset_train))\n",
    "dataLoader_train = DataLoader(dataset_train, batch_size=batch_size, shuffle=True, num_workers=1)\n",
    "\n",
    "dataset_test = ORDataset(x_test, y_test)\n",
    "print ('Number of test data set: ', len(dataset_test))\n",
    "dataLoader_test = DataLoader(dataset_test, batch_size=len(y_test), shuffle=True, num_workers=1)"
   ]
  },
  {
   "cell_type": "code",
   "execution_count": 7,
   "metadata": {},
   "outputs": [],
   "source": [
    "if torch.cuda.is_available():\n",
    "    device = torch.device(\"cuda\" if torch.cuda.is_available() else \"cpu\")"
   ]
  },
  {
   "cell_type": "code",
   "execution_count": 15,
   "metadata": {},
   "outputs": [
    {
     "name": "stdout",
     "output_type": "stream",
     "text": [
      "2278\n"
     ]
    }
   ],
   "source": [
    "### Define the model components\n",
    "class OfferRec(nn.Module):\n",
    "    def __init__(self, input_size, layers=1):\n",
    "        super(OfferRec, self).__init__()\n",
    "        \n",
    "        self.linear1 = nn.Linear(input_size, round(input_size/4))\n",
    "\n",
    "        self.linear3 = nn.Linear(round(input_size/4), round(input_size/8)) \n",
    "        \n",
    "        self.linear = nn.Linear(round(input_size/8), 1)\n",
    "\n",
    "    def forward(self, x):\n",
    "        out = F.relu(self.linear1(x.float()))\n",
    "\n",
    "        out = F.relu(self.linear3(out))\n",
    "        \n",
    "        out = self.linear(out)\n",
    "        out = torch.sigmoid(out)\n",
    "\n",
    "        return out\n",
    "\n",
    "loss_fn = nn.MSELoss()\n",
    "print (n_columns)\n",
    "model = OfferRec(n_columns).to(device)\n",
    "optimizer = torch.optim.Adam(model.parameters(), lr=1e-4, weight_decay=1e-5)"
   ]
  },
  {
   "cell_type": "code",
   "execution_count": 16,
   "metadata": {},
   "outputs": [
    {
     "name": "stdout",
     "output_type": "stream",
     "text": [
      "epoch  10 loss:  20.904907030519098\n",
      "epoch  20 loss:  11.91361437633168\n",
      "epoch  30 loss:  10.469296865630895\n",
      "epoch  40 loss:  9.230254783615237\n",
      "epoch  50 loss:  8.837685989688907\n",
      "epoch  60 loss:  8.27986596604751\n",
      "epoch  70 loss:  8.241283024988661\n",
      "epoch  80 loss:  8.363531715201134\n",
      "epoch  90 loss:  7.884553459152812\n",
      "epoch  100 loss:  7.72892156139369\n"
     ]
    },
    {
     "data": {
      "text/plain": [
       "Text(0, 0.5, 'MSE')"
      ]
     },
     "execution_count": 16,
     "metadata": {},
     "output_type": "execute_result"
    },
    {
     "data": {
      "image/png": "[encoded data removed]",
      "text/plain": [
       "<Figure size 432x288 with 2 Axes>"
      ]
     },
     "metadata": {
      "needs_background": "light"
     },
     "output_type": "display_data"
    }
   ],
   "source": [
    "losses = []\n",
    "losses_test = []\n",
    "\n",
    "j= 0\n",
    "for epoch in range(100):\n",
    "    model.train()\n",
    "    total_loss = 0\n",
    "    for x, y in dataLoader_train:        \n",
    "        x, y = x.to(device), y.to(device)\n",
    "        model.zero_grad()\n",
    "\n",
    "        pred_prob = model(x.float())\n",
    "        loss = loss_fn(pred_prob, y.float().reshape(x.shape[0],1))\n",
    "        loss.backward()\n",
    "        optimizer.step()\n",
    "        total_loss += loss.item()\n",
    "    j=j+1\n",
    "    if j % 10 == 0:\n",
    "        print ('epoch ' , j, 'loss: ', total_loss)\n",
    "\n",
    "    losses.append(total_loss)\n",
    "\n",
    "    with torch.no_grad():\n",
    "        model.eval()\n",
    "        for x_t, y_t in dataLoader_test:\n",
    "            x_t, y_t = x_t.to(device), y_t.to(device)\n",
    "            pred_prob_test = model(x_t.float())\n",
    "            loss_test = loss_fn(pred_prob_test, y_t.float().reshape(x_t.shape[0],1))\n",
    "            loss_test = loss_test.item()\n",
    "        losses_test.append(loss_test)\n",
    "\n",
    "plt.subplot(2, 1, 1)\n",
    "plt.plot(losses)\n",
    "plt.title('Training Plot')\n",
    "plt.ylabel('MSE')\n",
    "\n",
    "plt.subplot(2, 1, 2)\n",
    "plt.plot(losses_test)\n",
    "plt.xlabel('Test Plot')\n",
    "plt.ylabel('MSE')\n"
   ]
  },
  {
   "cell_type": "code",
   "execution_count": 10,
   "metadata": {},
   "outputs": [],
   "source": [
    "#Save the model\n",
    "torch.save(model.state_dict(),'../mode_lrAllVars.tp')\n",
    "the_model = OfferRec(n_columns)"
   ]
  },
  {
   "cell_type": "code",
   "execution_count": 11,
   "metadata": {},
   "outputs": [
    {
     "name": "stdout",
     "output_type": "stream",
     "text": [
      "Index(['user_id', 'offer_id', 'redeem_date', 'cat_brand_sums[0]',\n",
      "       'cat_brand_sums[1]', 'cat_brand_sums[2]', 'cat_brand_sums[3]',\n",
      "       'cat_brand_sums[4]', 'cat_brand_sums[5]', 'cat_brand_sums[6]',\n",
      "       ...\n",
      "       'id_catBrd_1081', 'id_catBrd_1082', 'id_catBrd_1083', 'id_catBrd_1084',\n",
      "       'id_catBrd_1085', 'id_catBrd_1086', 'id_catBrd_1087', 'id_catBrd_1088',\n",
      "       'id_catBrd_1089', 'target'],\n",
      "      dtype='object', length=2282)\n",
      "(6781, 2278)\n"
     ]
    }
   ],
   "source": [
    "print (test.columns)\n",
    "print (test.values[:,3:-1].shape)\n",
    "X_test_tensor = torch.from_numpy(test.values[:,3:-1].astype(float)).float()\n",
    "y_test_tensor = torch.from_numpy(test['target'].values)"
   ]
  },
  {
   "cell_type": "code",
   "execution_count": 12,
   "metadata": {},
   "outputs": [
    {
     "name": "stdout",
     "output_type": "stream",
     "text": [
      "torch.Size([6781, 1])\n"
     ]
    },
    {
     "data": {
      "text/html": [
       "<div>\n",
       "<style scoped>\n",
       "    .dataframe tbody tr th:only-of-type {\n",
       "        vertical-align: middle;\n",
       "    }\n",
       "\n",
       "    .dataframe tbody tr th {\n",
       "        vertical-align: top;\n",
       "    }\n",
       "\n",
       "    .dataframe thead th {\n",
       "        text-align: right;\n",
       "    }\n",
       "</style>\n",
       "<table border=\"1\" class=\"dataframe\">\n",
       "  <thead>\n",
       "    <tr style=\"text-align: right;\">\n",
       "      <th></th>\n",
       "      <th>prob</th>\n",
       "      <th>target</th>\n",
       "    </tr>\n",
       "  </thead>\n",
       "  <tbody>\n",
       "    <tr>\n",
       "      <th>0</th>\n",
       "      <td>4.531131e-02</td>\n",
       "      <td>0.0</td>\n",
       "    </tr>\n",
       "    <tr>\n",
       "      <th>1</th>\n",
       "      <td>3.527029e-23</td>\n",
       "      <td>0.0</td>\n",
       "    </tr>\n",
       "    <tr>\n",
       "      <th>2</th>\n",
       "      <td>1.322109e-02</td>\n",
       "      <td>0.0</td>\n",
       "    </tr>\n",
       "    <tr>\n",
       "      <th>3</th>\n",
       "      <td>2.042249e-06</td>\n",
       "      <td>0.0</td>\n",
       "    </tr>\n",
       "    <tr>\n",
       "      <th>4</th>\n",
       "      <td>7.880019e-09</td>\n",
       "      <td>0.0</td>\n",
       "    </tr>\n",
       "  </tbody>\n",
       "</table>\n",
       "</div>"
      ],
      "text/plain": [
       "           prob  target\n",
       "0  4.531131e-02     0.0\n",
       "1  3.527029e-23     0.0\n",
       "2  1.322109e-02     0.0\n",
       "3  2.042249e-06     0.0\n",
       "4  7.880019e-09     0.0"
      ]
     },
     "metadata": {},
     "output_type": "display_data"
    }
   ],
   "source": [
    "with torch.no_grad():\n",
    "    model = OfferRec(test.values[:,3:-1].shape[1])\n",
    "    model.load_state_dict(torch.load('../mode_lrAllVars.tp'))\n",
    "    model.eval()\n",
    "    pred_prob = model(X_test_tensor)\n",
    "    print (pred_prob.shape)\n",
    "    pred = pd.DataFrame(torch.cat((pred_prob, y_test_tensor.float().reshape(-1,1)), 1).numpy(), columns = ['prob', 'target'])\n",
    "display(pred.head(n=5))"
   ]
  },
  {
   "cell_type": "code",
   "execution_count": 13,
   "metadata": {},
   "outputs": [
    {
     "name": "stdout",
     "output_type": "stream",
     "text": [
      "   rank  cnt          prob  target\n",
      "9     9  678  4.705927e-01   242.0\n",
      "8     8  678  5.270453e-02    85.0\n",
      "7     7  678  8.933973e-03    64.0\n",
      "6     6  678  5.662073e-04    39.0\n",
      "5     5  678  1.925639e-05    18.0\n",
      "4     4  678  6.908272e-07    17.0\n",
      "3     3  678  2.830812e-08     9.0\n",
      "2     2  678  8.497519e-10    15.0\n",
      "1     1  678  5.357111e-12     8.0\n",
      "0     0  679  8.676983e-16    25.0\n"
     ]
    },
    {
     "data": {
      "image/png": "[encoded data removed]",
      "text/plain": [
       "<Figure size 432x288 with 1 Axes>"
      ]
     },
     "metadata": {
      "needs_background": "light"
     },
     "output_type": "display_data"
    },
    {
     "data": {
      "image/png": "[encoded data removed]",
      "text/plain": [
       "<Figure size 432x288 with 1 Axes>"
      ]
     },
     "metadata": {
      "needs_background": "light"
     },
     "output_type": "display_data"
    }
   ],
   "source": [
    "from imp import reload \n",
    "import Model\n",
    "reload(Model)\n",
    "\n",
    "Lift = Model.ModelLift(c=10)\n",
    "lift = Lift.calLift(pred, target='target', prob='prob')\n",
    "Model.Plot(lift)"
   ]
  },
  {
   "cell_type": "code",
   "execution_count": 14,
   "metadata": {},
   "outputs": [
    {
     "name": "stdout",
     "output_type": "stream",
     "text": [
      "0\n"
     ]
    }
   ],
   "source": [
    "print (0 % 10)"
   ]
  },
  {
   "cell_type": "code",
   "execution_count": null,
   "metadata": {},
   "outputs": [],
   "source": []
  }
 ],
 "metadata": {
  "kernelspec": {
   "display_name": "Python 3",
   "language": "python",
   "name": "python3"
  },
  "language_info": {
   "codemirror_mode": {
    "name": "ipython",
    "version": 3
   },
   "file_extension": ".py",
   "mimetype": "text/x-python",
   "name": "python",
   "nbconvert_exporter": "python",
   "pygments_lexer": "ipython3",
   "version": "3.6.8"
  }
 },
 "nbformat": 4,
 "nbformat_minor": 4
}
