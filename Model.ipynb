{
 "cells": [
  {
   "cell_type": "code",
   "execution_count": 1,
   "metadata": {},
   "outputs": [],
   "source": [
    "import os\n",
    "from pyspark import SparkContext, SparkConf\n",
    "from pyspark.sql import SparkSession\n",
    "import matplotlib.pyplot as plt\n",
    "\n",
    "import sagemaker\n",
    "from sagemaker import get_execution_role\n",
    "import sagemaker_pyspark\n",
    "import boto3\n",
    "\n",
    "role = get_execution_role()\n",
    "\n",
    "# Configure Spark to use the SageMaker Spark dependency jars\n",
    "jars = sagemaker_pyspark.classpath_jars()\n",
    "\n",
    "classpath = \":\".join(sagemaker_pyspark.classpath_jars())\n",
    "\n",
    "# See the SageMaker Spark Github repo under sagemaker-pyspark-sdk\n",
    "# to learn how to connect to a remote EMR cluster running Spark from a Notebook Instance.\n",
    "spark = SparkSession.builder.config(\"spark.driver.extraClassPath\", classpath).getOrCreate()\n",
    "#spark = SparkSession.builder.config(\"spark.driver.extraClassPath\", classpath).master(\"local[*]\").getOrCreate()\n",
    "\n",
    "import pandas as pd\n",
    "import numpy as np\n",
    "import re\n",
    "import sys\n",
    "from sklearn.model_selection import train_test_split\n",
    "\n",
    "import torch\n",
    "import torch.nn as nn\n",
    "import torch.nn.functional as F\n",
    "from torch.utils.data import Dataset, DataLoader\n",
    "\n",
    "batch_size = 126"
   ]
  },
  {
   "cell_type": "markdown",
   "metadata": {},
   "source": [
    "### Train the model with only the behavior data"
   ]
  },
  {
   "cell_type": "code",
   "execution_count": 2,
   "metadata": {},
   "outputs": [],
   "source": [
    "#df_train = spark.read.format('parquet').load('s3a://fetch-data-puddle/spark/sandbox/mingjun/ORtrain/').sample(0.01)\n",
    "#df_test = spark.read.format('parquet').load('s3a://fetch-data-puddle/spark/sandbox/mingjun/ORtest/')\n",
    "def read_prefix_to_df(prefix):\n",
    "    s3 = boto3.resource('s3')\n",
    "    bucket = s3.Bucket('fetch-data-puddle')\n",
    "    prefix_objs = bucket.objects.filter(Prefix=prefix)\n",
    "    prefix_df = []\n",
    "    for obj in prefix_objs:\n",
    "        key = obj.key\n",
    "        prefix_df.append(key)\n",
    "        #body = obj.get()['Body'].read()\n",
    "        #df = pd.DataFrame(body)\n",
    "        #prefix_df.append(df)\n",
    "    #return pd.concat(prefix_df)\n",
    "    return prefix_df\n",
    "#read_prefix_to_df('spark/sandbox/mingjun/ORtrainCSV')"
   ]
  },
  {
   "cell_type": "code",
   "execution_count": 3,
   "metadata": {},
   "outputs": [
    {
     "name": "stdout",
     "output_type": "stream",
     "text": [
      "spark/sandbox/mingjun/ORtrainCSV/part-00000-ace753b3-99a7-4b7d-9208-2db591cf18bd-c000.csv\n",
      "spark/sandbox/mingjun/ORtestCSV/part-00000-4937e451-82b7-4161-986f-daf792106165-c000.csv\n",
      "spark/sandbox/mingjun/ORotherCSV/part-00000-16c7370a-bcf8-43d3-b71f-722526f462c2-c000.csv\n"
     ]
    }
   ],
   "source": [
    "def DowloandfileS3(inpt, out):\n",
    "    bucketname = 'fetch-data-puddle' # replace with your bucket name\n",
    "    s3 = boto3.resource('s3')\n",
    "    s3.Bucket(bucketname).download_file(inpt, out)\n",
    "path_train = read_prefix_to_df('spark/sandbox/mingjun/ORtrainCSV')[1]\n",
    "print (path_train)\n",
    "DowloandfileS3(path_train,'../train.csv')\n",
    "\n",
    "path_test = read_prefix_to_df('spark/sandbox/mingjun/ORtestCSV')[1]\n",
    "print (path_test)\n",
    "DowloandfileS3(path_test,'../test.csv')\n",
    "\n",
    "path_other = read_prefix_to_df('spark/sandbox/mingjun/ORotherCSV')[1]\n",
    "print (path_other)\n",
    "DowloandfileS3(path_other,'../other.csv')"
   ]
  },
  {
   "cell_type": "code",
   "execution_count": 13,
   "metadata": {},
   "outputs": [
    {
     "name": "stdout",
     "output_type": "stream",
     "text": [
      "(60480, 2287)\n",
      "(6781, 2287)\n"
     ]
    }
   ],
   "source": [
    "train = pd.read_csv('../train.csv', header=0)\n",
    "print (train.shape)\n",
    "#print (train.columns)\n",
    "\n",
    "test = pd.read_csv('../test.csv', header=0)\n",
    "print (test.shape)\n",
    "\n",
    "#other = pd.read_csv('../other.csv', header=0)\n",
    "#print (other.columns)"
   ]
  },
  {
   "cell_type": "code",
   "execution_count": 5,
   "metadata": {},
   "outputs": [
    {
     "name": "stdout",
     "output_type": "stream",
     "text": [
      "Index(['user_id', 'offer_id', 'redeem_date', 'cat_brand_sums[0]',\n",
      "       'cat_brand_sums[1]', 'cat_brand_sums[2]', 'cat_brand_sums[3]',\n",
      "       'cat_brand_sums[4]', 'cat_brand_sums[5]', 'cat_brand_sums[6]',\n",
      "       ...\n",
      "       'id_catBrd_1081', 'id_catBrd_1082', 'id_catBrd_1083', 'id_catBrd_1084',\n",
      "       'id_catBrd_1085', 'id_catBrd_1086', 'id_catBrd_1087', 'id_catBrd_1088',\n",
      "       'id_catBrd_1089', 'target'],\n",
      "      dtype='object', length=2287)\n"
     ]
    }
   ],
   "source": [
    "print (train.columns)"
   ]
  },
  {
   "cell_type": "code",
   "execution_count": 8,
   "metadata": {},
   "outputs": [
    {
     "name": "stdout",
     "output_type": "stream",
     "text": [
      "(6102, 2283)\n",
      "(6102,)\n"
     ]
    }
   ],
   "source": [
    "X_vars = list(train.columns[3:-1])\n",
    "#print (X_vars)\n",
    "x_train, x_test, y_train, y_test = train_test_split(train[X_vars].values, train[list(train.columns)[-1]].values, test_size=0.10, random_state=100)\n",
    "print (x_train.shape)\n",
    "print (y_train.shape)\n",
    "n_columns = x_train.shape[1]"
   ]
  },
  {
   "cell_type": "code",
   "execution_count": 9,
   "metadata": {},
   "outputs": [
    {
     "name": "stdout",
     "output_type": "stream",
     "text": [
      "Number of training set:  6102\n",
      "Number of test data set:  679\n"
     ]
    }
   ],
   "source": [
    "class ORDataset(Dataset):\n",
    "    ## Define the underline data source\n",
    "    def __init__(self, x, y):\n",
    "        self.x = x\n",
    "        self.y = y\n",
    "        \n",
    "    def __len__(self):\n",
    "        return len(self.y)\n",
    "        \n",
    "    def __getitem__(self, idx):\n",
    "        return torch.tensor(self.x[idx]), torch.tensor(self.y[idx])\n",
    "        \n",
    "dataset_train = ORDataset(x_train, y_train)\n",
    "\n",
    "print ('Number of training set: ', len(dataset_train))\n",
    "dataLoader_train = DataLoader(dataset_train, batch_size=batch_size, shuffle=True, num_workers=1)\n",
    "\n",
    "dataset_test = ORDataset(x_test, y_test)\n",
    "print ('Number of test data set: ', len(dataset_test))\n",
    "dataLoader_test = DataLoader(dataset_test, batch_size=len(y_test), shuffle=True, num_workers=1)"
   ]
  },
  {
   "cell_type": "code",
   "execution_count": 10,
   "metadata": {},
   "outputs": [],
   "source": [
    "if torch.cuda.is_available():\n",
    "    device = torch.device(\"cuda\" if torch.cuda.is_available() else \"cpu\")"
   ]
  },
  {
   "cell_type": "code",
   "execution_count": 11,
   "metadata": {},
   "outputs": [
    {
     "name": "stdout",
     "output_type": "stream",
     "text": [
      "Layer distribution:  [2283, 1141, 570, 285, 142]\n"
     ]
    }
   ],
   "source": [
    "def block(inpt, out):\n",
    "    return nn.Sequential (\n",
    "        nn.Linear(inpt, out),\n",
    "        nn.ReLU()\n",
    "        )\n",
    "\n",
    "### Define the model components\n",
    "class OfferRec(nn.Module):\n",
    "    def __init__(self, input_size, layers=5):\n",
    "        super(OfferRec, self).__init__()\n",
    "        \n",
    "        ##In this model, I am just using the several fc layers. the last layers is a scalar and through a sigmoid trnsformation.\n",
    "        dim_layers = []\n",
    "        \n",
    "        \n",
    "        for i in range(layers):\n",
    "            dim_layers.append(input_size // 2**i )\n",
    "        print ('Layer distribution: ', dim_layers)\n",
    "        \n",
    "        fc_blocks = [block(i, j) for i, j in zip(dim_layers, dim_layers[1:])]\n",
    "        \n",
    "        self.mc = nn.Sequential(*fc_blocks)\n",
    "        \n",
    "        self.linear = nn.Linear(dim_layers[-1], 1)\n",
    "    \n",
    "    def block(self, inpt, out):\n",
    "        return nn.Sequential (\n",
    "            nn.Linear(inpt, out),\n",
    "            nn.ReLU()\n",
    "            )\n",
    "\n",
    "    def forward(self, x):\n",
    "        ## x is the input tensor data\n",
    "        \n",
    "        out = self.mc(x)\n",
    "        out = self.linear(out)\n",
    "        out = torch.sigmoid(out)\n",
    "\n",
    "        return out\n",
    "\n",
    "loss_fn = nn.MSELoss()\n",
    "\n",
    "model = OfferRec(n_columns).to(device)\n",
    "optimizer = torch.optim.Adam(model.parameters(), lr=1e-4, weight_decay=1e-5)\n",
    "\n"
   ]
  },
  {
   "cell_type": "code",
   "execution_count": 11,
   "metadata": {},
   "outputs": [
    {
     "name": "stdout",
     "output_type": "stream",
     "text": [
      "epoch  10 loss:  4.239002915945093\n",
      "epoch  20 loss:  2.9697803825502547\n",
      "epoch  30 loss:  2.263127916560137\n"
     ]
    },
    {
     "data": {
      "text/plain": [
       "Text(0, 0.5, 'MSE')"
      ]
     },
     "execution_count": 11,
     "metadata": {},
     "output_type": "execute_result"
    },
    {
     "data": {
      "image/png": "[encoded data removed]",
      "text/plain": [
       "<Figure size 432x288 with 2 Axes>"
      ]
     },
     "metadata": {},
     "output_type": "display_data"
    }
   ],
   "source": [
    "#list_users_train, list_items_train, list_labels_train, list_cats_train, list_manus_train,list_states_train\n",
    "\n",
    "losses = []\n",
    "losses_test = []\n",
    "\n",
    "j= 0\n",
    "for epoch in range(30):\n",
    "    model.train()\n",
    "    total_loss = 0\n",
    "    for x, y in dataLoader_train:        \n",
    "        x, y = x.to(device), y.to(device)\n",
    "        model.zero_grad()\n",
    "\n",
    "        pred_prob = model(x.float())\n",
    "        loss = loss_fn(pred_prob, y.float().reshape(x.shape[0],1))\n",
    "        loss.backward()\n",
    "        optimizer.step()\n",
    "        total_loss += loss.item()\n",
    "    j=j+1\n",
    "    if j % 10 == 0:\n",
    "        print ('epoch ' , j, 'loss: ', total_loss)\n",
    "\n",
    "    losses.append(total_loss)\n",
    "\n",
    "    with torch.no_grad():\n",
    "        model.eval()\n",
    "        for x_t, y_t in dataLoader_test:\n",
    "            x_t, y_t = x_t.to(device), y_t.to(device)\n",
    "            pred_prob_test = model(x_t.float())\n",
    "            loss_test = loss_fn(pred_prob_test, y_t.float().reshape(x_t.shape[0],1))\n",
    "            loss_test = loss_test.item()\n",
    "        losses_test.append(loss_test)\n",
    "\n",
    "plt.subplot(2, 1, 1)\n",
    "plt.plot(losses)\n",
    "plt.title('Training Plot')\n",
    "plt.ylabel('MSE')\n",
    "\n",
    "plt.subplot(2, 1, 2)\n",
    "plt.plot(losses_test)\n",
    "plt.xlabel('Test Plot')\n",
    "plt.ylabel('MSE')\n",
    "\n"
   ]
  },
  {
   "cell_type": "code",
   "execution_count": 12,
   "metadata": {},
   "outputs": [
    {
     "name": "stdout",
     "output_type": "stream",
     "text": [
      "Layer distribution:  [2283, 1141, 570, 285, 142]\n"
     ]
    }
   ],
   "source": [
    "#Save ghe model\n",
    "torch.save(model.state_dict(),'../mode.tp')\n",
    "the_model = OfferRec(n_columns)\n",
    "#the_model.load_state_dict(torch.load(PATH))"
   ]
  },
  {
   "cell_type": "markdown",
   "metadata": {},
   "source": [
    "### Performance on the test dataset "
   ]
  },
  {
   "cell_type": "code",
   "execution_count": 14,
   "metadata": {},
   "outputs": [
    {
     "name": "stdout",
     "output_type": "stream",
     "text": [
      "Index(['user_id', 'offer_id', 'redeem_date', 'cat_brand_sums[0]',\n",
      "       'cat_brand_sums[1]', 'cat_brand_sums[2]', 'cat_brand_sums[3]',\n",
      "       'cat_brand_sums[4]', 'cat_brand_sums[5]', 'cat_brand_sums[6]',\n",
      "       ...\n",
      "       'id_catBrd_1081', 'id_catBrd_1082', 'id_catBrd_1083', 'id_catBrd_1084',\n",
      "       'id_catBrd_1085', 'id_catBrd_1086', 'id_catBrd_1087', 'id_catBrd_1088',\n",
      "       'id_catBrd_1089', 'target'],\n",
      "      dtype='object', length=2287)\n",
      "(6781, 2283)\n",
      "Layer distribution:  [2283, 1141, 570, 285, 142]\n",
      "torch.Size([6781, 1])\n"
     ]
    },
    {
     "data": {
      "text/html": [
       "<div>\n",
       "<style scoped>\n",
       "    .dataframe tbody tr th:only-of-type {\n",
       "        vertical-align: middle;\n",
       "    }\n",
       "\n",
       "    .dataframe tbody tr th {\n",
       "        vertical-align: top;\n",
       "    }\n",
       "\n",
       "    .dataframe thead th {\n",
       "        text-align: right;\n",
       "    }\n",
       "</style>\n",
       "<table border=\"1\" class=\"dataframe\">\n",
       "  <thead>\n",
       "    <tr style=\"text-align: right;\">\n",
       "      <th></th>\n",
       "      <th>prob</th>\n",
       "      <th>target</th>\n",
       "    </tr>\n",
       "  </thead>\n",
       "  <tbody>\n",
       "    <tr>\n",
       "      <th>0</th>\n",
       "      <td>1.665475e-08</td>\n",
       "      <td>0.0</td>\n",
       "    </tr>\n",
       "    <tr>\n",
       "      <th>1</th>\n",
       "      <td>7.947796e-08</td>\n",
       "      <td>0.0</td>\n",
       "    </tr>\n",
       "    <tr>\n",
       "      <th>2</th>\n",
       "      <td>2.736979e-06</td>\n",
       "      <td>0.0</td>\n",
       "    </tr>\n",
       "    <tr>\n",
       "      <th>3</th>\n",
       "      <td>3.036316e-08</td>\n",
       "      <td>0.0</td>\n",
       "    </tr>\n",
       "    <tr>\n",
       "      <th>4</th>\n",
       "      <td>2.466297e-04</td>\n",
       "      <td>0.0</td>\n",
       "    </tr>\n",
       "  </tbody>\n",
       "</table>\n",
       "</div>"
      ],
      "text/plain": [
       "           prob  target\n",
       "0  1.665475e-08     0.0\n",
       "1  7.947796e-08     0.0\n",
       "2  2.736979e-06     0.0\n",
       "3  3.036316e-08     0.0\n",
       "4  2.466297e-04     0.0"
      ]
     },
     "metadata": {},
     "output_type": "display_data"
    },
    {
     "name": "stdout",
     "output_type": "stream",
     "text": [
      "   rank  cnt          prob  target\n",
      "9     9  678  7.843351e-01   498.0\n",
      "8     8  678  1.223755e-03    11.0\n",
      "7     7  678  5.136890e-05     2.0\n",
      "6     6  678  4.751221e-06     1.0\n",
      "5     5  678  4.478621e-07     1.0\n",
      "4     4  678  3.856309e-08     0.0\n",
      "3     3  678  2.623253e-09     2.0\n",
      "2     2  678  9.386847e-11     0.0\n",
      "1     1  678  4.523658e-13     2.0\n",
      "0     0  679  4.641104e-18     5.0\n"
     ]
    },
    {
     "data": {
      "image/png": "[encoded data removed]",
      "text/plain": [
       "<Figure size 432x288 with 1 Axes>"
      ]
     },
     "metadata": {
      "needs_background": "light"
     },
     "output_type": "display_data"
    },
    {
     "data": {
      "image/png": "[encoded data removed]",
      "text/plain": [
       "<Figure size 432x288 with 1 Axes>"
      ]
     },
     "metadata": {
      "needs_background": "light"
     },
     "output_type": "display_data"
    }
   ],
   "source": [
    "print (test.columns)\n",
    "print (test.values[:,3:-1].shape)\n",
    "X_test_tensor = torch.from_numpy(test.values[:,3:-1].astype(float)).float()\n",
    "y_test_tensor = torch.from_numpy(test['target'].values)\n",
    "\n",
    "with torch.no_grad():\n",
    "    model = OfferRec(test.values[:,3:-1].shape[1])\n",
    "    model.load_state_dict(torch.load('../mode.tp'))\n",
    "    model.eval()\n",
    "    pred_prob = model(X_test_tensor)\n",
    "    print (pred_prob.shape)\n",
    "    pred = pd.DataFrame(torch.cat((pred_prob, y_test_tensor.float().reshape(-1,1)), 1).numpy(), columns = ['prob', 'target'])\n",
    "display(pred.head(n=5))\n",
    "\n",
    "from imp import reload \n",
    "import Model\n",
    "reload(Model)\n",
    "\n",
    "Lift = Model.ModelLift(c=10)\n",
    "lift = Lift.calLift(pred, target='target', prob='prob')\n",
    "Model.Plot(lift)"
   ]
  },
  {
   "cell_type": "code",
   "execution_count": null,
   "metadata": {},
   "outputs": [],
   "source": []
  }
 ],
 "metadata": {
  "kernelspec": {
   "display_name": "conda_pytorch_p36",
   "language": "python",
   "name": "conda_pytorch_p36"
  },
  "language_info": {
   "codemirror_mode": {
    "name": "ipython",
    "version": 3
   },
   "file_extension": ".py",
   "mimetype": "text/x-python",
   "name": "python",
   "nbconvert_exporter": "python",
   "pygments_lexer": "ipython3",
   "version": "3.6.10"
  }
 },
 "nbformat": 4,
 "nbformat_minor": 4
}
