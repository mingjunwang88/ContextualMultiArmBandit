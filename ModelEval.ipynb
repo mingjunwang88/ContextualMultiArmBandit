{
 "cells": [
  {
   "cell_type": "code",
   "execution_count": 13,
   "metadata": {},
   "outputs": [
    {
     "data": {
      "text/plain": [
       "<module 'Model' from '/home/ec2-user/SageMaker/OR_v2/Model.py'>"
      ]
     },
     "execution_count": 13,
     "metadata": {},
     "output_type": "execute_result"
    }
   ],
   "source": [
    "import torch\n",
    "import pickle\n",
    "from sklearn.linear_model import LogisticRegression\n",
    "from Model import *\n",
    "import pandas as pd\n",
    "from torch.utils.data import Dataset, DataLoader\n",
    "from imp import reload \n",
    "\n",
    "import Model\n",
    "reload(Model)"
   ]
  },
  {
   "cell_type": "code",
   "execution_count": 14,
   "metadata": {},
   "outputs": [
    {
     "name": "stdout",
     "output_type": "stream",
     "text": [
      "Index(['user_id', 'offer_id', 'redeem_date', 'cat_brand_sums[0]',\n",
      "       'cat_brand_sums[1]', 'cat_brand_sums[2]', 'cat_brand_sums[3]',\n",
      "       'cat_brand_sums[4]', 'cat_brand_sums[5]', 'cat_brand_sums[6]',\n",
      "       ...\n",
      "       'id_catBrd_1081', 'id_catBrd_1082', 'id_catBrd_1083', 'id_catBrd_1084',\n",
      "       'id_catBrd_1085', 'id_catBrd_1086', 'id_catBrd_1087', 'id_catBrd_1088',\n",
      "       'id_catBrd_1089', 'target'],\n",
      "      dtype='object', length=2287)\n",
      "Index(['user_id', 'offer_id', 'redeem_date', 'facebook_authhot_[0]',\n",
      "       'facebook_authhot_[1]', 'google_authhot_[0]', 'google_authhot_[1]',\n",
      "       'statehot_[0]', 'statehot_[1]', 'statehot_[2]', 'statehot_[3]',\n",
      "       'statehot_[4]', 'statehot_[5]', 'statehot_[6]', 'statehot_[7]',\n",
      "       'statehot_[8]', 'statehot_[9]', 'statehot_[10]', 'statehot_[11]',\n",
      "       'statehot_[12]', 'statehot_[13]', 'statehot_[14]', 'statehot_[15]',\n",
      "       'statehot_[16]', 'statehot_[17]', 'statehot_[18]', 'statehot_[19]',\n",
      "       'statehot_[20]', 'statehot_[21]', 'statehot_[22]', 'statehot_[23]',\n",
      "       'statehot_[24]', 'statehot_[25]', 'statehot_[26]', 'statehot_[27]',\n",
      "       'statehot_[28]', 'statehot_[29]', 'statehot_[30]', 'statehot_[31]',\n",
      "       'statehot_[32]', 'statehot_[33]', 'statehot_[34]', 'statehot_[35]',\n",
      "       'statehot_[36]', 'statehot_[37]', 'statehot_[38]', 'statehot_[39]',\n",
      "       'statehot_[40]', 'statehot_[41]', 'statehot_[42]', 'statehot_[43]',\n",
      "       'statehot_[44]', 'statehot_[45]', 'statehot_[46]', 'statehot_[47]',\n",
      "       'statehot_[48]', 'statehot_[49]', 'statehot_[50]', 'statehot_[51]',\n",
      "       'statehot_[52]', 'alcohot_[0]', 'alcohot_[1]', 'value', 'user_age',\n",
      "       'id_cat_dollars', 'id_cat_units', 'id_cat_offers', 'id_cat_tenure',\n",
      "       'id_cat_recency', 'id_cat_points', 'id_total_dollars', 'id_total_units',\n",
      "       'id_total_offers', 'id_tenure', 'id_recency', 'life',\n",
      "       'total_offer_dollars', 'total_offer_units', 'total_offers', 'age',\n",
      "       'velocity', 'total_cat_offer_dollars', 'total_cat_offer_units',\n",
      "       'total_cat_offers', 'velocity_cat'],\n",
      "      dtype='object')\n",
      "(6781, 2287)\n",
      "(67261, 85)\n"
     ]
    }
   ],
   "source": [
    "test = pd.read_csv('../test.csv', header=0)\n",
    "print (test.columns)\n",
    "\n",
    "## Have all the other varaibles\n",
    "other = pd.read_csv('../other.csv', header=0)\n",
    "print (other.columns)\n",
    "\n",
    "print (test.shape)\n",
    "print (other.shape)"
   ]
  },
  {
   "cell_type": "code",
   "execution_count": 15,
   "metadata": {},
   "outputs": [
    {
     "name": "stdout",
     "output_type": "stream",
     "text": [
      "(67261, 66)\n",
      "(6781, 2287)\n"
     ]
    },
    {
     "data": {
      "text/html": [
       "<div>\n",
       "<style scoped>\n",
       "    .dataframe tbody tr th:only-of-type {\n",
       "        vertical-align: middle;\n",
       "    }\n",
       "\n",
       "    .dataframe tbody tr th {\n",
       "        vertical-align: top;\n",
       "    }\n",
       "\n",
       "    .dataframe thead th {\n",
       "        text-align: right;\n",
       "    }\n",
       "</style>\n",
       "<table border=\"1\" class=\"dataframe\">\n",
       "  <thead>\n",
       "    <tr style=\"text-align: right;\">\n",
       "      <th></th>\n",
       "      <th>user_id</th>\n",
       "      <th>offer_id</th>\n",
       "      <th>redeem_date</th>\n",
       "      <th>facebook_authhot_[0]</th>\n",
       "      <th>facebook_authhot_[1]</th>\n",
       "      <th>google_authhot_[0]</th>\n",
       "      <th>google_authhot_[1]</th>\n",
       "      <th>statehot_[0]</th>\n",
       "      <th>statehot_[1]</th>\n",
       "      <th>statehot_[2]</th>\n",
       "      <th>...</th>\n",
       "      <th>statehot_[49]</th>\n",
       "      <th>statehot_[50]</th>\n",
       "      <th>statehot_[51]</th>\n",
       "      <th>statehot_[52]</th>\n",
       "      <th>alcohot_[0]</th>\n",
       "      <th>alcohot_[1]</th>\n",
       "      <th>value</th>\n",
       "      <th>life</th>\n",
       "      <th>age</th>\n",
       "      <th>user_age</th>\n",
       "    </tr>\n",
       "  </thead>\n",
       "  <tbody>\n",
       "    <tr>\n",
       "      <th>0</th>\n",
       "      <td>57d4d05ae4b0a807bde28019</td>\n",
       "      <td>5dd4305ba2e51b3e0e91d85d</td>\n",
       "      <td>2019-11-21</td>\n",
       "      <td>1.0</td>\n",
       "      <td>0.0</td>\n",
       "      <td>1.0</td>\n",
       "      <td>0.0</td>\n",
       "      <td>1.0</td>\n",
       "      <td>0.0</td>\n",
       "      <td>0.0</td>\n",
       "      <td>...</td>\n",
       "      <td>0.0</td>\n",
       "      <td>0.0</td>\n",
       "      <td>0.0</td>\n",
       "      <td>0.0</td>\n",
       "      <td>0.0</td>\n",
       "      <td>1.0</td>\n",
       "      <td>1.0</td>\n",
       "      <td>1</td>\n",
       "      <td>2</td>\n",
       "      <td>43</td>\n",
       "    </tr>\n",
       "    <tr>\n",
       "      <th>1</th>\n",
       "      <td>59b372d7e4b08eb3b4028787</td>\n",
       "      <td>5dd439cb41cfc43b0e7a1407</td>\n",
       "      <td>2019-11-21</td>\n",
       "      <td>0.0</td>\n",
       "      <td>1.0</td>\n",
       "      <td>1.0</td>\n",
       "      <td>0.0</td>\n",
       "      <td>0.0</td>\n",
       "      <td>0.0</td>\n",
       "      <td>0.0</td>\n",
       "      <td>...</td>\n",
       "      <td>0.0</td>\n",
       "      <td>0.0</td>\n",
       "      <td>0.0</td>\n",
       "      <td>0.0</td>\n",
       "      <td>1.0</td>\n",
       "      <td>0.0</td>\n",
       "      <td>1.0</td>\n",
       "      <td>1</td>\n",
       "      <td>2</td>\n",
       "      <td>43</td>\n",
       "    </tr>\n",
       "    <tr>\n",
       "      <th>2</th>\n",
       "      <td>59c048a3e4b01ead606c78ae</td>\n",
       "      <td>5e128f5f56b90222fc2548b3</td>\n",
       "      <td>2020-02-05</td>\n",
       "      <td>1.0</td>\n",
       "      <td>0.0</td>\n",
       "      <td>1.0</td>\n",
       "      <td>0.0</td>\n",
       "      <td>0.0</td>\n",
       "      <td>0.0</td>\n",
       "      <td>0.0</td>\n",
       "      <td>...</td>\n",
       "      <td>0.0</td>\n",
       "      <td>0.0</td>\n",
       "      <td>0.0</td>\n",
       "      <td>0.0</td>\n",
       "      <td>1.0</td>\n",
       "      <td>0.0</td>\n",
       "      <td>0.5</td>\n",
       "      <td>28</td>\n",
       "      <td>29</td>\n",
       "      <td>42</td>\n",
       "    </tr>\n",
       "    <tr>\n",
       "      <th>3</th>\n",
       "      <td>59d5648fe4b0bf935cf6e235</td>\n",
       "      <td>5d937813eca44d1154639bc8</td>\n",
       "      <td>2019-10-22</td>\n",
       "      <td>0.0</td>\n",
       "      <td>1.0</td>\n",
       "      <td>1.0</td>\n",
       "      <td>0.0</td>\n",
       "      <td>0.0</td>\n",
       "      <td>0.0</td>\n",
       "      <td>0.0</td>\n",
       "      <td>...</td>\n",
       "      <td>0.0</td>\n",
       "      <td>0.0</td>\n",
       "      <td>0.0</td>\n",
       "      <td>0.0</td>\n",
       "      <td>1.0</td>\n",
       "      <td>0.0</td>\n",
       "      <td>0.5</td>\n",
       "      <td>20</td>\n",
       "      <td>21</td>\n",
       "      <td>38</td>\n",
       "    </tr>\n",
       "    <tr>\n",
       "      <th>4</th>\n",
       "      <td>59f72499e4b008f419dd15b8</td>\n",
       "      <td>5dc59366ace420773fa5d66c</td>\n",
       "      <td>2019-11-30</td>\n",
       "      <td>0.0</td>\n",
       "      <td>1.0</td>\n",
       "      <td>1.0</td>\n",
       "      <td>0.0</td>\n",
       "      <td>1.0</td>\n",
       "      <td>0.0</td>\n",
       "      <td>0.0</td>\n",
       "      <td>...</td>\n",
       "      <td>0.0</td>\n",
       "      <td>0.0</td>\n",
       "      <td>0.0</td>\n",
       "      <td>0.0</td>\n",
       "      <td>0.0</td>\n",
       "      <td>1.0</td>\n",
       "      <td>0.5</td>\n",
       "      <td>16</td>\n",
       "      <td>17</td>\n",
       "      <td>57</td>\n",
       "    </tr>\n",
       "  </tbody>\n",
       "</table>\n",
       "<p>5 rows × 66 columns</p>\n",
       "</div>"
      ],
      "text/plain": [
       "                    user_id                  offer_id redeem_date  \\\n",
       "0  57d4d05ae4b0a807bde28019  5dd4305ba2e51b3e0e91d85d  2019-11-21   \n",
       "1  59b372d7e4b08eb3b4028787  5dd439cb41cfc43b0e7a1407  2019-11-21   \n",
       "2  59c048a3e4b01ead606c78ae  5e128f5f56b90222fc2548b3  2020-02-05   \n",
       "3  59d5648fe4b0bf935cf6e235  5d937813eca44d1154639bc8  2019-10-22   \n",
       "4  59f72499e4b008f419dd15b8  5dc59366ace420773fa5d66c  2019-11-30   \n",
       "\n",
       "   facebook_authhot_[0]  facebook_authhot_[1]  google_authhot_[0]  \\\n",
       "0                   1.0                   0.0                 1.0   \n",
       "1                   0.0                   1.0                 1.0   \n",
       "2                   1.0                   0.0                 1.0   \n",
       "3                   0.0                   1.0                 1.0   \n",
       "4                   0.0                   1.0                 1.0   \n",
       "\n",
       "   google_authhot_[1]  statehot_[0]  statehot_[1]  statehot_[2]  ...  \\\n",
       "0                 0.0           1.0           0.0           0.0  ...   \n",
       "1                 0.0           0.0           0.0           0.0  ...   \n",
       "2                 0.0           0.0           0.0           0.0  ...   \n",
       "3                 0.0           0.0           0.0           0.0  ...   \n",
       "4                 0.0           1.0           0.0           0.0  ...   \n",
       "\n",
       "   statehot_[49]  statehot_[50]  statehot_[51]  statehot_[52]  alcohot_[0]  \\\n",
       "0            0.0            0.0            0.0            0.0          0.0   \n",
       "1            0.0            0.0            0.0            0.0          1.0   \n",
       "2            0.0            0.0            0.0            0.0          1.0   \n",
       "3            0.0            0.0            0.0            0.0          1.0   \n",
       "4            0.0            0.0            0.0            0.0          0.0   \n",
       "\n",
       "   alcohot_[1]  value  life  age  user_age  \n",
       "0          1.0    1.0     1    2        43  \n",
       "1          0.0    1.0     1    2        43  \n",
       "2          0.0    0.5    28   29        42  \n",
       "3          0.0    0.5    20   21        38  \n",
       "4          1.0    0.5    16   17        57  \n",
       "\n",
       "[5 rows x 66 columns]"
      ]
     },
     "metadata": {},
     "output_type": "display_data"
    }
   ],
   "source": [
    "other_keep = ['user_id', 'offer_id', 'redeem_date', 'facebook_authhot_[0]', 'facebook_authhot_[1]', 'google_authhot_[0]', 'google_authhot_[1]', 'statehot_[0]', \n",
    "              'statehot_[1]', 'statehot_[2]', 'statehot_[3]', 'statehot_[4]', 'statehot_[5]', 'statehot_[6]', 'statehot_[7]', 'statehot_[8]', 'statehot_[9]', \n",
    "              'statehot_[10]', 'statehot_[11]', 'statehot_[12]', 'statehot_[13]', 'statehot_[14]', 'statehot_[15]', 'statehot_[16]', 'statehot_[17]', 'statehot_[18]', \n",
    "              'statehot_[19]', 'statehot_[20]', 'statehot_[21]', 'statehot_[22]', 'statehot_[23]', 'statehot_[24]', 'statehot_[25]', 'statehot_[26]', 'statehot_[27]', \n",
    "              'statehot_[28]', 'statehot_[29]', 'statehot_[30]', 'statehot_[31]', 'statehot_[32]', 'statehot_[33]', 'statehot_[34]', 'statehot_[35]', 'statehot_[36]', \n",
    "              'statehot_[37]', 'statehot_[38]', 'statehot_[39]', 'statehot_[40]', 'statehot_[41]', 'statehot_[42]', 'statehot_[43]', 'statehot_[44]', 'statehot_[45]', \n",
    "              'statehot_[46]', 'statehot_[47]', 'statehot_[48]', 'statehot_[49]', 'statehot_[50]', 'statehot_[51]', 'statehot_[52]', 'alcohot_[0]', 'alcohot_[1]', \n",
    "              'value', 'life', 'age','user_age']\n",
    "other = other[other_keep]\n",
    "print (other.shape)\n",
    "print (test.shape)\n",
    "display(other.head(5))"
   ]
  },
  {
   "cell_type": "code",
   "execution_count": 16,
   "metadata": {},
   "outputs": [
    {
     "name": "stdout",
     "output_type": "stream",
     "text": [
      "(6781, 2350)\n",
      "Index(['user_id', 'offer_id', 'redeem_date', 'facebook_authhot_[0]',\n",
      "       'facebook_authhot_[1]', 'google_authhot_[0]', 'google_authhot_[1]',\n",
      "       'statehot_[0]', 'statehot_[1]', 'statehot_[2]',\n",
      "       ...\n",
      "       'id_catBrd_1081', 'id_catBrd_1082', 'id_catBrd_1083', 'id_catBrd_1084',\n",
      "       'id_catBrd_1085', 'id_catBrd_1086', 'id_catBrd_1087', 'id_catBrd_1088',\n",
      "       'id_catBrd_1089', 'target'],\n",
      "      dtype='object', length=2350)\n"
     ]
    }
   ],
   "source": [
    "####################################\n",
    "test_other =  pd.merge(other, test, on=['user_id', 'offer_id', 'redeem_date'],how='right').fillna(0)\n",
    "print (test_other.shape)\n",
    "print (test_other.columns)"
   ]
  },
  {
   "cell_type": "code",
   "execution_count": 17,
   "metadata": {},
   "outputs": [
    {
     "name": "stdout",
     "output_type": "stream",
     "text": [
      "(6781, 2283) Index(['cat_brand_sums[0]', 'cat_brand_sums[1]', 'cat_brand_sums[2]',\n",
      "       'cat_brand_sums[3]', 'cat_brand_sums[4]', 'cat_brand_sums[5]',\n",
      "       'cat_brand_sums[6]', 'cat_brand_sums[7]', 'cat_brand_sums[8]',\n",
      "       'cat_brand_sums[9]',\n",
      "       ...\n",
      "       'id_catBrd_1080', 'id_catBrd_1081', 'id_catBrd_1082', 'id_catBrd_1083',\n",
      "       'id_catBrd_1084', 'id_catBrd_1085', 'id_catBrd_1086', 'id_catBrd_1087',\n",
      "       'id_catBrd_1088', 'id_catBrd_1089'],\n",
      "      dtype='object', length=2283)\n",
      "(6781, 2346)\n"
     ]
    }
   ],
   "source": [
    "X_vars = list(test.columns[3:-1])\n",
    "y_var = list(test.columns)[-1]\n",
    "print (test[X_vars].shape, test[X_vars].columns)\n",
    "\n",
    "X_other_vars = list(test_other.columns[3:-1])\n",
    "print (test_other[X_other_vars].shape)"
   ]
  },
  {
   "cell_type": "code",
   "execution_count": 18,
   "metadata": {},
   "outputs": [],
   "source": [
    "class ORDataset(Dataset):\n",
    "    #underline data set: two numpy arrays\n",
    "    def __init__(self, x ,y):\n",
    "        self.x = x\n",
    "        self.y = y\n",
    "        \n",
    "    def __len__(self):\n",
    "        return len(self.y)\n",
    "    \n",
    "    def __getitem__(self, idx):\n",
    "        return torch.tensor(self.x[idx]), torch.tensor(self.y[idx])\n",
    "\n",
    "Dataset_test = ORDataset(test[X_vars].values,test[y_var].values)\n",
    "Dataset_test_other = ORDataset(test_other[X_other_vars].values, test_other['target'].values)\n",
    "\n",
    "dataLoader_test = DataLoader(Dataset_test,batch_size=test.shape[0] )\n",
    "dataLpader_test_other = DataLoader(Dataset_test_other, batch_size = test.shape[0])"
   ]
  },
  {
   "cell_type": "code",
   "execution_count": 19,
   "metadata": {},
   "outputs": [
    {
     "name": "stdout",
     "output_type": "stream",
     "text": [
      "Layer distribution:  [2283, 1141, 570, 285, 142]\n",
      "Layer distribution:  [2346, 1173, 586, 293, 146]\n"
     ]
    },
    {
     "data": {
      "text/plain": [
       "<All keys matched successfully>"
      ]
     },
     "execution_count": 19,
     "metadata": {},
     "output_type": "execute_result"
    }
   ],
   "source": [
    "model_test = Model.OfferRec(test[X_vars].shape[1])\n",
    "model_test.load_state_dict(torch.load('../mode.tp'))\n",
    "\n",
    "model_test_other = Model.OfferRec(test_other[X_other_vars].shape[1])\n",
    "model_test_other.load_state_dict(torch.load('../mode_other.tp'))\n"
   ]
  },
  {
   "cell_type": "markdown",
   "metadata": {},
   "source": [
    "### Performace of all data with content"
   ]
  },
  {
   "cell_type": "code",
   "execution_count": 21,
   "metadata": {},
   "outputs": [
    {
     "name": "stdout",
     "output_type": "stream",
     "text": [
      "    rank  cnt          prob  target\n",
      "19    19  339  9.997607e-01   328.0\n",
      "18    18  339  4.895736e-01   172.0\n",
      "17    17  339  2.881881e-04     7.0\n",
      "16    16  339  2.670181e-05     5.0\n",
      "15    15  339  7.294243e-06     0.0\n",
      "14    14  339  3.490685e-06     0.0\n",
      "13    13  339  1.841318e-06     0.0\n",
      "12    12  339  1.102208e-06     1.0\n",
      "11    11  339  6.363760e-07     0.0\n",
      "10    10  339  3.599857e-07     1.0\n"
     ]
    },
    {
     "data": {
      "image/png": "[encoded data removed]",
      "text/plain": [
       "<Figure size 432x288 with 1 Axes>"
      ]
     },
     "metadata": {
      "needs_background": "light"
     },
     "output_type": "display_data"
    },
    {
     "data": {
      "image/png": "[encoded data removed]",
      "text/plain": [
       "<Figure size 432x288 with 1 Axes>"
      ]
     },
     "metadata": {
      "needs_background": "light"
     },
     "output_type": "display_data"
    }
   ],
   "source": [
    "with torch.no_grad():\n",
    "    model_test_other.eval()\n",
    "    for x_t, y_t in dataLpader_test_other:\n",
    "        pred_prob_other = model_test_other(x_t.float())\n",
    "        y_other = pd.DataFrame(torch.cat( (pred_prob_other, y_t.reshape(-1, 1).float()) , 1).numpy(), columns=['prob', 'target'])\n",
    "Lift = Model.ModelLift(c=20)\n",
    "lift = Lift.calLift(y_other, target='target', prob='prob')\n",
    "Model.Plot(lift)"
   ]
  },
  {
   "cell_type": "markdown",
   "metadata": {},
   "source": [
    "### Performance of all data without content"
   ]
  },
  {
   "cell_type": "code",
   "execution_count": 20,
   "metadata": {},
   "outputs": [
    {
     "name": "stdout",
     "output_type": "stream",
     "text": [
      "    rank  cnt          prob  target\n",
      "19    19  339  9.987984e-01   296.0\n",
      "18    18  339  5.698719e-01   202.0\n",
      "17    17  339  2.157866e-03     8.0\n",
      "16    16  339  2.896444e-04     3.0\n",
      "15    15  339  7.819180e-05     1.0\n",
      "14    14  339  2.454600e-05     1.0\n",
      "13    13  339  7.107959e-06     0.0\n",
      "12    12  339  2.394483e-06     1.0\n",
      "11    11  336  7.037855e-07     0.0\n",
      "10    10  342  1.964285e-07     1.0\n"
     ]
    },
    {
     "data": {
      "image/png": "[encoded data removed]",
      "text/plain": [
       "<Figure size 432x288 with 1 Axes>"
      ]
     },
     "metadata": {
      "needs_background": "light"
     },
     "output_type": "display_data"
    },
    {
     "data": {
      "image/png": "[encoded data removed]",
      "text/plain": [
       "<Figure size 432x288 with 1 Axes>"
      ]
     },
     "metadata": {
      "needs_background": "light"
     },
     "output_type": "display_data"
    }
   ],
   "source": [
    "with torch.no_grad():\n",
    "    model_test.eval()\n",
    "    for x_t, y_t in dataLoader_test:\n",
    "        pass\n",
    "        pred_prob_test = model_test(x_t.float())\n",
    "        y = pd.DataFrame(torch.cat( (pred_prob_test, y_t.reshape(-1, 1).float()) , 1).numpy(), columns=['prob', 'target'])\n",
    "Lift = Model.ModelLift(c=20)\n",
    "lift = Lift.calLift(y, target='target', prob='prob')\n",
    "Model.Plot(lift)"
   ]
  },
  {
   "cell_type": "code",
   "execution_count": null,
   "metadata": {},
   "outputs": [],
   "source": []
  },
  {
   "cell_type": "code",
   "execution_count": null,
   "metadata": {},
   "outputs": [],
   "source": []
  }
 ],
 "metadata": {
  "kernelspec": {
   "display_name": "conda_pytorch_p36",
   "language": "python",
   "name": "conda_pytorch_p36"
  },
  "language_info": {
   "codemirror_mode": {
    "name": "ipython",
    "version": 3
   },
   "file_extension": ".py",
   "mimetype": "text/x-python",
   "name": "python",
   "nbconvert_exporter": "python",
   "pygments_lexer": "ipython3",
   "version": "3.6.10"
  }
 },
 "nbformat": 4,
 "nbformat_minor": 4
}
