{
 "cells": [
  {
   "cell_type": "code",
<<<<<<< HEAD
   "execution_count": 11,
   "metadata": {},
   "outputs": [
    {
     "ename": "TypeError",
     "evalue": "'module' object is not callable",
     "output_type": "error",
     "traceback": [
      "\u001b[0;31m---------------------------------------------------------------------------\u001b[0m",
      "\u001b[0;31mTypeError\u001b[0m                                 Traceback (most recent call last)",
      "\u001b[0;32m<ipython-input-11-48653de71922>\u001b[0m in \u001b[0;36m<module>\u001b[0;34m\u001b[0m\n\u001b[1;32m      3\u001b[0m \u001b[0mURL\u001b[0m\u001b[0;34m=\u001b[0m\u001b[0;34m'http://radar.oreilly.com/2010/07/louvre-industrial-age-henry-ford.html'\u001b[0m\u001b[0;34m\u001b[0m\u001b[0;34m\u001b[0m\u001b[0m\n\u001b[1;32m      4\u001b[0m \u001b[0;34m\u001b[0m\u001b[0m\n\u001b[0;32m----> 5\u001b[0;31m \u001b[0mextractor\u001b[0m \u001b[0;34m=\u001b[0m \u001b[0mextractors\u001b[0m\u001b[0;34m(\u001b[0m\u001b[0mextractor\u001b[0m\u001b[0;34m=\u001b[0m\u001b[0;34m'ArticleExtractor'\u001b[0m\u001b[0;34m,\u001b[0m \u001b[0murl\u001b[0m\u001b[0;34m=\u001b[0m\u001b[0mURL\u001b[0m\u001b[0;34m)\u001b[0m\u001b[0;34m\u001b[0m\u001b[0;34m\u001b[0m\u001b[0m\n\u001b[0m\u001b[1;32m      6\u001b[0m \u001b[0;34m\u001b[0m\u001b[0m\n\u001b[1;32m      7\u001b[0m \u001b[0mprint\u001b[0m \u001b[0;34m(\u001b[0m\u001b[0mextractor\u001b[0m\u001b[0;34m.\u001b[0m\u001b[0mgetText\u001b[0m\u001b[0;34m(\u001b[0m\u001b[0;34m)\u001b[0m\u001b[0;34m)\u001b[0m\u001b[0;34m\u001b[0m\u001b[0;34m\u001b[0m\u001b[0m\n",
      "\u001b[0;31mTypeError\u001b[0m: 'module' object is not callable"
=======
   "execution_count": 3,
   "metadata": {},
   "outputs": [
    {
     "ename": "KeyboardInterrupt",
     "evalue": "",
     "output_type": "error",
     "traceback": [
      "\u001b[0;31m---------------------------------------------------------------------------\u001b[0m",
      "\u001b[0;31mKeyboardInterrupt\u001b[0m                         Traceback (most recent call last)",
      "\u001b[0;32m<ipython-input-3-81fb5e9b0528>\u001b[0m in \u001b[0;36m<module>\u001b[0;34m\u001b[0m\n\u001b[1;32m      4\u001b[0m \u001b[0ma\u001b[0m\u001b[0;34m=\u001b[0m\u001b[0;36m0\u001b[0m\u001b[0;34m\u001b[0m\u001b[0;34m\u001b[0m\u001b[0m\n\u001b[1;32m      5\u001b[0m \u001b[0;32mfor\u001b[0m \u001b[0mi\u001b[0m \u001b[0;32min\u001b[0m \u001b[0mrange\u001b[0m\u001b[0;34m(\u001b[0m\u001b[0;36m1000000000\u001b[0m\u001b[0;34m)\u001b[0m\u001b[0;34m:\u001b[0m\u001b[0;34m\u001b[0m\u001b[0;34m\u001b[0m\u001b[0m\n\u001b[0;32m----> 6\u001b[0;31m     \u001b[0ma\u001b[0m\u001b[0;34m+=\u001b[0m\u001b[0mi\u001b[0m\u001b[0;34m\u001b[0m\u001b[0;34m\u001b[0m\u001b[0m\n\u001b[0m\u001b[1;32m      7\u001b[0m \u001b[0mt2\u001b[0m \u001b[0;34m=\u001b[0m \u001b[0mtime\u001b[0m\u001b[0;34m.\u001b[0m\u001b[0mtime\u001b[0m\u001b[0;34m(\u001b[0m\u001b[0;34m)\u001b[0m\u001b[0;34m\u001b[0m\u001b[0;34m\u001b[0m\u001b[0m\n\u001b[1;32m      8\u001b[0m \u001b[0mprint\u001b[0m \u001b[0;34m(\u001b[0m\u001b[0;34m(\u001b[0m\u001b[0mt2\u001b[0m\u001b[0;34m-\u001b[0m\u001b[0mt1\u001b[0m\u001b[0;34m)\u001b[0m\u001b[0;34m/\u001b[0m\u001b[0;36m60.0\u001b[0m\u001b[0;34m)\u001b[0m\u001b[0;34m\u001b[0m\u001b[0;34m\u001b[0m\u001b[0m\n",
      "\u001b[0;31mKeyboardInterrupt\u001b[0m: "
>>>>>>> 42001fce3faffe01b3eebcd0c0939f0b35e60fa8
     ]
    }
   ],
   "source": [
<<<<<<< HEAD
    "from boilerpy3 import extractors\n",
    "\n",
    "URL='http://radar.oreilly.com/2010/07/louvre-industrial-age-henry-ford.html'\n",
    "\n",
    "extractor = extractors.ArticleExtractor()\n",
    "\n",
    "extractor = extractors(extractor='ArticleExtractor', url=URL)\n",
    "\n",
    "print (extractor.getText())"
   ]
  },
  {
   "cell_type": "code",
   "execution_count": 13,
   "metadata": {},
   "outputs": [
    {
     "name": "stdout",
     "output_type": "stream",
     "text": [
      "We're in the process of moving Radar to the new oreilly.com. Check it out.\n",
      "The Louvre of the Industrial Age\n",
      "The Henry Ford is one of the world's great museums, and the world it chronicles is our own.\n",
      "by Tim O'Reilly | @timoreilly | +Tim O'Reilly | July 30, 2010\n",
      "This morning I had the chance to get a tour of The Henry Ford Museum in Dearborn, MI, along with Dale Dougherty, creator of Make: and Makerfaire, and Marc Greuther, the chief curator of the museum.  I had expected a museum dedicated to the auto industry, but it’s so much more than that.  As I wrote in my first stunned tweet, “it’s the Louvre of the Industrial Age.”\n",
      "When we first entered, Marc took us to what he said may be his favorite artifact in the museum, a block of concrete that contains Luther Burbank’s shovel, and Thomas Edison’s signature and footprints.  Luther Burbank was, of course, the great agricultural inventor who created such treasures as the nectarine and the Santa Rosa plum. Ford was a farm boy who became an industrialist; Thomas Edison was his friend and mentor. The museum, opened in 1929, was Ford’s personal homage to the transformation of the world that he was so much a part of.  This museum chronicles that transformation.\n",
      "The machines are astonishing – steam engines and coal-fired electric generators as big as houses, the first lathes capable of making other precision lathes (the makerbot of the 19th century), a ribbon glass machine that is one of five that in the 1970s made virtually all of the incandescent lightbulbs in the world, combine harvesters, railroad locomotives, cars, airplanes, even motels, gas stations, an early McDonalds’ restaurant and other epiphenomena of the automobile era.\n",
      "Under Marc’s eye, we also saw the transformation of the machines from purely functional objects to things of beauty.  We saw the advances in engineering — the materials, the workmanship, the design, over a hundred years of innovation.  Visiting The Henry Ford, as they call it, is a truly humbling experience.  I would never in a hundred years have thought of making a visit to Detroit just to visit this museum, but knowing what I know now, I will tell you confidently that it is as worth your while as a visit to Paris just to see the Louvre, to Rome for the Vatican Museum, to Florence for the Uffizi Gallery, to St. Petersburg for the Hermitage, or to Berlin for the Pergamon Museum.  This is truly one of the world’s great museums, and the world that it chronicles is our own.\n",
      "\n"
     ]
    }
   ],
   "source": [
    "from boilerpy3 import extractors\n",
    "\n",
    "extractor = extractors.ArticleExtractor()\n",
    "\n",
    "# From a URL\n",
    "content = extractor.get_content_from_url(URL)\n",
    "print(content)"
   ]
  },
  {
   "cell_type": "code",
   "execution_count": 9,
   "metadata": {},
   "outputs": [
    {
     "name": "stdout",
     "output_type": "stream",
     "text": [
      "['English', 'Fench']\n"
     ]
    }
   ],
   "source": [
    "print (a.get('languages', 0))"
   ]
  },
  {
   "cell_type": "code",
   "execution_count": 18,
   "metadata": {},
   "outputs": [
    {
     "name": "stdout",
     "output_type": "stream",
     "text": [
      "dt_object = 2020-04-21 12:16:11.832000\n",
      "type(dt_object) = <class 'datetime.datetime'>\n",
      "<class 'datetime.date'> 2020-04-21\n"
     ]
    }
   ],
   "source": [
    "from datetime import datetime\n",
    "\n",
    "timestamp = 1587489371.832\n",
    "dt_object = datetime.fromtimestamp(timestamp)\n",
    "dt = dt_object.date()\n",
    "\n",
    "print(\"dt_object =\", dt_object)\n",
    "print(\"type(dt_object) =\", type(dt_object))\n",
    "print (type(dt), dt)"
   ]
  },
  {
   "cell_type": "code",
   "execution_count": 59,
   "metadata": {},
   "outputs": [
    {
     "name": "stdout",
     "output_type": "stream",
     "text": [
      "dt_object = 2020-04-23 09:59:54.209000\n",
      "type(dt_object) = <class 'datetime.datetime'>\n",
      "<class 'datetime.date'> 2020-04-23\n"
     ]
    }
   ],
   "source": [
    "from datetime import datetime\n",
    "\n",
    "timestamp = 1587648879.54\n",
    "timestamp = 1587653994.209\n",
    "dt_object = datetime.fromtimestamp(timestamp)\n",
    "dt = dt_object.date()\n",
    "\n",
    "print(\"dt_object =\", dt_object)\n",
    "print(\"type(dt_object) =\", type(dt_object))\n",
    "print (type(dt), dt)"
=======
    "import time\n",
    "\n",
    "t1 = time.time()\n",
    "a=0\n",
    "for i in range(10000):\n",
    "    a+=i\n",
    "t2 = time.time()\n",
    "print ((t2-t1)/60.0)"
>>>>>>> 42001fce3faffe01b3eebcd0c0939f0b35e60fa8
   ]
  },
  {
   "cell_type": "code",
<<<<<<< HEAD
   "execution_count": null,
   "metadata": {},
   "outputs": [],
   "source": [
    "{\n",
    "    TableName: \"Music\",\n",
    "    KeyConditionExpression: \"Artist = :a\",\n",
    "    ExpressionAttributeValues: {\n",
    "        \":a\": \"No One You Know\"\n",
    "    }\n",
    "}"
   ]
  },
  {
   "cell_type": "code",
   "execution_count": null,
   "metadata": {},
   "outputs": [],
   "source": [
    "response = table.query(\n",
    "    KeyConditionExpression: \"user_id = :a, offer_id = :b\",\n",
    "    ExpressionAttributeValues: {\n",
    "        \":a\": \"No One You Know\",\n",
    "        ':b' :'nnn'\n",
    "    }\n",
    "    \n",
    ")\n",
    "items = response['Items']\n",
    "print(items)"
   ]
  },
  {
   "cell_type": "code",
   "execution_count": 44,
   "metadata": {},
   "outputs": [
    {
     "name": "stdout",
     "output_type": "stream",
     "text": [
      "2020-04-21 14:07:53\n"
     ]
    }
   ],
   "source": [
    "import datetime\n",
    "readable = datetime.datetime.fromtimestamp(1587496073)\n",
    "print(readable)"
   ]
  },
  {
   "cell_type": "code",
   "execution_count": 60,
   "metadata": {},
   "outputs": [
    {
     "name": "stdout",
     "output_type": "stream",
     "text": [
      "2020-04-24 10:12:07.536714\n"
     ]
    }
   ],
   "source": [
    "from datetime import datetime\n",
    "now = datetime.today()\n",
    "print (now)\n"
   ]
  },
  {
   "cell_type": "code",
   "execution_count": 40,
=======
   "execution_count": 5,
>>>>>>> 42001fce3faffe01b3eebcd0c0939f0b35e60fa8
   "metadata": {},
   "outputs": [
    {
     "data": {
      "text/plain": [
<<<<<<< HEAD
       "89440"
      ]
     },
     "execution_count": 40,
=======
       "3"
      ]
     },
     "execution_count": 5,
>>>>>>> 42001fce3faffe01b3eebcd0c0939f0b35e60fa8
     "metadata": {},
     "output_type": "execute_result"
    }
   ],
   "source": [
<<<<<<< HEAD
    "43*8*5 * 52"
=======
    "import numpy as np\n",
    "np.random.choice([1,2,3,4], 1)[0]"
>>>>>>> 42001fce3faffe01b3eebcd0c0939f0b35e60fa8
   ]
  },
  {
   "cell_type": "code",
<<<<<<< HEAD
   "execution_count": 6,
   "metadata": {},
   "outputs": [
    {
     "name": "stdout",
     "output_type": "stream",
     "text": [
      "2020-10-22 12:33:54.359647\n"
     ]
    }
   ],
   "source": [
    "import datetime\n",
    "print (datetime.datetime.today())"
   ]
  },
  {
   "cell_type": "code",
   "execution_count": null,
   "metadata": {},
   "outputs": [],
   "source": []
=======
   "execution_count": 1,
   "metadata": {},
   "outputs": [
    {
     "data": {
      "text/plain": [
       "1.9333333333333333"
      ]
     },
     "execution_count": 1,
     "metadata": {},
     "output_type": "execute_result"
    }
   ],
   "source": [
    "116/60"
   ]
>>>>>>> 42001fce3faffe01b3eebcd0c0939f0b35e60fa8
  }
 ],
 "metadata": {
  "kernelspec": {
<<<<<<< HEAD
   "display_name": "Python 3.7.3 64-bit ('tf-3': conda)",
   "language": "python",
   "name": "python37364bittf3conda44f77fb8ee8b4bcc9931876a8e6c938b"
=======
   "display_name": "conda_pytorch_p36",
   "language": "python",
   "name": "conda_pytorch_p36"
>>>>>>> 42001fce3faffe01b3eebcd0c0939f0b35e60fa8
  },
  "language_info": {
   "codemirror_mode": {
    "name": "ipython",
    "version": 3
   },
   "file_extension": ".py",
   "mimetype": "text/x-python",
   "name": "python",
   "nbconvert_exporter": "python",
   "pygments_lexer": "ipython3",
<<<<<<< HEAD
   "version": "3.7.3"
  }
 },
 "nbformat": 4,
 "nbformat_minor": 2
=======
   "version": "3.6.10"
  }
 },
 "nbformat": 4,
 "nbformat_minor": 4
>>>>>>> 42001fce3faffe01b3eebcd0c0939f0b35e60fa8
}
