{
 "cells": [
  {
   "cell_type": "code",
   "execution_count": 1,
   "metadata": {},
   "outputs": [],
   "source": [
    "import os\n",
    "from pyspark import SparkContext, SparkConf\n",
    "from pyspark.sql import SparkSession\n",
    "import matplotlib.pyplot as plt\n",
    "\n",
    "import sagemaker\n",
    "from sagemaker import get_execution_role\n",
    "import sagemaker_pyspark\n",
    "import boto3\n",
    "import pickle\n",
    "\n",
    "role = get_execution_role()\n",
    "\n",
    "# Configure Spark to use the SageMaker Spark dependency jars\n",
    "jars = sagemaker_pyspark.classpath_jars()\n",
    "\n",
    "classpath = \":\".join(sagemaker_pyspark.classpath_jars())\n",
    "\n",
    "# See the SageMaker Spark Github repo under sagemaker-pyspark-sdk\n",
    "# to learn how to connect to a remote EMR cluster running Spark from a Notebook Instance.\n",
    "spark = SparkSession.builder.config(\"spark.driver.extraClassPath\", classpath).getOrCreate()\n",
    "#spark = SparkSession.builder.config(\"spark.driver.extraClassPath\", classpath).master(\"local[*]\").getOrCreate()\n",
    "\n",
    "import pandas as pd\n",
    "import numpy as np\n",
    "import re\n",
    "import sys\n",
    "from sklearn.model_selection import train_test_split\n",
    "\n",
    "from sklearn.linear_model import LogisticRegression"
   ]
  },
  {
   "cell_type": "code",
   "execution_count": 2,
   "metadata": {},
   "outputs": [],
   "source": [
    "cols = ['id_cat_recency',\n",
    "'life',\n",
    "'id_cat_tenure',\n",
    "'id_recency',\n",
    "'age',\n",
    "'id_tenure',\n",
    "'id_total_dollars',\n",
    "'id_cat_points',\n",
    "'total_offers',\n",
    "'total_offer_units',\n",
    "'total_cat_offer_units',\n",
    "'total_cat_offers',\n",
    "'total_offer_dollars',\n",
    "'user_age',\n",
    "'velocity',\n",
    "'target']"
   ]
  },
  {
   "cell_type": "code",
   "execution_count": 3,
   "metadata": {},
   "outputs": [
    {
     "name": "stdout",
     "output_type": "stream",
     "text": [
      "(60480, 4)\n",
      "Index(['id_cat_recency', 'life', 'id_cat_tenure', 'id_recency', 'age',\n",
      "       'id_tenure', 'id_total_dollars', 'id_cat_points', 'total_offers',\n",
      "       'total_offer_units', 'total_cat_offer_units', 'total_cat_offers',\n",
      "       'total_offer_dollars', 'user_age', 'velocity', 'target'],\n",
      "      dtype='object')\n"
     ]
    }
   ],
   "source": [
    "train = pd.read_csv('../train.csv', header=0)[['user_id','offer_id','redeem_date','target']]\n",
    "print (train.shape)\n",
    "\n",
    "test = pd.read_csv('../test.csv', header=0)\n",
    "#print (test.shape, test.columns)\n",
    "\n",
    "other = pd.merge(pd.read_csv('../other.csv', header=0), train, on=['user_id','offer_id','redeem_date'], how='right').fillna(0)[cols]\n",
    "other_test = pd.merge(pd.read_csv('../other.csv', header=0), test, on=['user_id','offer_id','redeem_date'], how='right').fillna(0)[cols]\n",
    "print (other.columns)"
   ]
  },
  {
   "cell_type": "code",
   "execution_count": 4,
   "metadata": {},
   "outputs": [
    {
     "name": "stdout",
     "output_type": "stream",
     "text": [
      "['id_cat_recency', 'life', 'id_cat_tenure', 'id_recency', 'age', 'id_tenure', 'id_total_dollars', 'id_cat_points', 'total_offers', 'total_offer_units', 'total_cat_offer_units', 'total_cat_offers', 'total_offer_dollars', 'user_age', 'velocity']\n",
      "(54432, 15)\n",
      "(54432,)\n"
     ]
    }
   ],
   "source": [
    "X_vars = list(other.columns[0:-1])\n",
    "print (X_vars)\n",
    "x_train, x_test, y_train, y_test = train_test_split(other[X_vars].values, other['target'].values, test_size=0.10, random_state=100)\n",
    "print (x_train.shape)\n",
    "print (y_train.shape)"
   ]
  },
  {
   "cell_type": "code",
   "execution_count": 5,
   "metadata": {},
   "outputs": [],
   "source": [
    "logit=LogisticRegression(solver='liblinear',max_iter = 200)\n",
    "logit.fit(x_train,y_train)\n",
    "prob=logit.predict_proba(x_test)\n",
    "pred_test = logit.predict(x_test)"
   ]
  },
  {
   "cell_type": "code",
   "execution_count": 6,
   "metadata": {},
   "outputs": [
    {
     "data": {
      "text/plain": [
       "array([[5452,   68],\n",
       "       [ 368,  160]])"
      ]
     },
     "metadata": {},
     "output_type": "display_data"
    },
    {
     "data": {
      "text/plain": [
       "0.9279100529100529"
      ]
     },
     "metadata": {},
     "output_type": "display_data"
    },
    {
     "data": {
      "text/plain": [
       "'              precision    recall  f1-score   support\\n\\n           0       0.94      0.99      0.96      5520\\n           1       0.70      0.30      0.42       528\\n\\n    accuracy                           0.93      6048\\n   macro avg       0.82      0.65      0.69      6048\\nweighted avg       0.92      0.93      0.91      6048\\n'"
      ]
     },
     "metadata": {},
     "output_type": "display_data"
    }
   ],
   "source": [
    "from sklearn import metrics as m\n",
    "display(m.confusion_matrix(y_test, pred_test, labels=[0,1]))\n",
    "display(m.accuracy_score(y_test, pred_test))\n",
    "display(m.classification_report(y_test, pred_test,target_names=['0','1']))"
   ]
  },
  {
   "cell_type": "code",
   "execution_count": 7,
   "metadata": {},
   "outputs": [],
   "source": [
    "import pickle\n",
    "pickle.dump(logit, open('../model_lrg.p', 'wb'))\n"
   ]
  },
  {
   "cell_type": "code",
   "execution_count": 8,
   "metadata": {},
   "outputs": [
    {
     "data": {
      "text/plain": [
       "array([0.07500008, 0.13583657, 0.17946597, ..., 0.06100836, 0.06428526,\n",
       "       0.03553245])"
      ]
     },
     "metadata": {},
     "output_type": "display_data"
    }
   ],
   "source": [
    "logit = pickle.load( open( \"../model_lrg.p\", \"rb\" ) )\n",
    "prob_test = logit.predict_proba(other_test.values[:,0:-1])\n",
    "display(prob_test[:,1])\n",
    "other_test['prob'] = prob_test[:,1]\n"
   ]
  },
  {
   "cell_type": "code",
   "execution_count": 9,
   "metadata": {},
   "outputs": [
    {
     "name": "stdout",
     "output_type": "stream",
     "text": [
      "Index(['id_cat_recency', 'life', 'id_cat_tenure', 'id_recency', 'age',\n",
      "       'id_tenure', 'id_total_dollars', 'id_cat_points', 'total_offers',\n",
      "       'total_offer_units', 'total_cat_offer_units', 'total_cat_offers',\n",
      "       'total_offer_dollars', 'user_age', 'velocity', 'target', 'prob'],\n",
      "      dtype='object')\n"
     ]
    },
    {
     "data": {
      "text/html": [
       "<div>\n",
       "<style scoped>\n",
       "    .dataframe tbody tr th:only-of-type {\n",
       "        vertical-align: middle;\n",
       "    }\n",
       "\n",
       "    .dataframe tbody tr th {\n",
       "        vertical-align: top;\n",
       "    }\n",
       "\n",
       "    .dataframe thead th {\n",
       "        text-align: right;\n",
       "    }\n",
       "</style>\n",
       "<table border=\"1\" class=\"dataframe\">\n",
       "  <thead>\n",
       "    <tr style=\"text-align: right;\">\n",
       "      <th></th>\n",
       "      <th>id_cat_recency</th>\n",
       "      <th>life</th>\n",
       "      <th>id_cat_tenure</th>\n",
       "      <th>id_recency</th>\n",
       "      <th>age</th>\n",
       "      <th>id_tenure</th>\n",
       "      <th>id_total_dollars</th>\n",
       "      <th>id_cat_points</th>\n",
       "      <th>total_offers</th>\n",
       "      <th>total_offer_units</th>\n",
       "      <th>total_cat_offer_units</th>\n",
       "      <th>total_cat_offers</th>\n",
       "      <th>total_offer_dollars</th>\n",
       "      <th>user_age</th>\n",
       "      <th>velocity</th>\n",
       "      <th>target</th>\n",
       "      <th>prob</th>\n",
       "    </tr>\n",
       "  </thead>\n",
       "  <tbody>\n",
       "    <tr>\n",
       "      <th>0</th>\n",
       "      <td>0</td>\n",
       "      <td>0</td>\n",
       "      <td>0</td>\n",
       "      <td>21</td>\n",
       "      <td>0</td>\n",
       "      <td>150</td>\n",
       "      <td>60.13</td>\n",
       "      <td>0.0</td>\n",
       "      <td>0</td>\n",
       "      <td>0</td>\n",
       "      <td>320768</td>\n",
       "      <td>266131</td>\n",
       "      <td>0.00</td>\n",
       "      <td>48</td>\n",
       "      <td>0.000000</td>\n",
       "      <td>0</td>\n",
       "      <td>0.075000</td>\n",
       "    </tr>\n",
       "    <tr>\n",
       "      <th>1</th>\n",
       "      <td>0</td>\n",
       "      <td>28</td>\n",
       "      <td>0</td>\n",
       "      <td>1</td>\n",
       "      <td>6</td>\n",
       "      <td>1</td>\n",
       "      <td>2.94</td>\n",
       "      <td>0.0</td>\n",
       "      <td>509</td>\n",
       "      <td>509</td>\n",
       "      <td>523671</td>\n",
       "      <td>431016</td>\n",
       "      <td>1935.96</td>\n",
       "      <td>33</td>\n",
       "      <td>84.833333</td>\n",
       "      <td>1</td>\n",
       "      <td>0.135837</td>\n",
       "    </tr>\n",
       "    <tr>\n",
       "      <th>2</th>\n",
       "      <td>0</td>\n",
       "      <td>21</td>\n",
       "      <td>0</td>\n",
       "      <td>0</td>\n",
       "      <td>22</td>\n",
       "      <td>0</td>\n",
       "      <td>0.00</td>\n",
       "      <td>0.0</td>\n",
       "      <td>15101</td>\n",
       "      <td>15101</td>\n",
       "      <td>1009064</td>\n",
       "      <td>960150</td>\n",
       "      <td>61198.25</td>\n",
       "      <td>22</td>\n",
       "      <td>686.409091</td>\n",
       "      <td>0</td>\n",
       "      <td>0.179466</td>\n",
       "    </tr>\n",
       "    <tr>\n",
       "      <th>3</th>\n",
       "      <td>0</td>\n",
       "      <td>27</td>\n",
       "      <td>0</td>\n",
       "      <td>13</td>\n",
       "      <td>28</td>\n",
       "      <td>40</td>\n",
       "      <td>21.40</td>\n",
       "      <td>0.0</td>\n",
       "      <td>52</td>\n",
       "      <td>52</td>\n",
       "      <td>8713</td>\n",
       "      <td>8418</td>\n",
       "      <td>301.79</td>\n",
       "      <td>34</td>\n",
       "      <td>1.857143</td>\n",
       "      <td>0</td>\n",
       "      <td>0.079716</td>\n",
       "    </tr>\n",
       "    <tr>\n",
       "      <th>4</th>\n",
       "      <td>0</td>\n",
       "      <td>29</td>\n",
       "      <td>0</td>\n",
       "      <td>2</td>\n",
       "      <td>30</td>\n",
       "      <td>2</td>\n",
       "      <td>2.22</td>\n",
       "      <td>0.0</td>\n",
       "      <td>12782</td>\n",
       "      <td>12782</td>\n",
       "      <td>830766</td>\n",
       "      <td>662543</td>\n",
       "      <td>66953.63</td>\n",
       "      <td>38</td>\n",
       "      <td>426.066667</td>\n",
       "      <td>0</td>\n",
       "      <td>0.050992</td>\n",
       "    </tr>\n",
       "  </tbody>\n",
       "</table>\n",
       "</div>"
      ],
      "text/plain": [
       "   id_cat_recency  life  id_cat_tenure  id_recency  age  id_tenure  \\\n",
       "0               0     0              0          21    0        150   \n",
       "1               0    28              0           1    6          1   \n",
       "2               0    21              0           0   22          0   \n",
       "3               0    27              0          13   28         40   \n",
       "4               0    29              0           2   30          2   \n",
       "\n",
       "   id_total_dollars  id_cat_points  total_offers  total_offer_units  \\\n",
       "0             60.13            0.0             0                  0   \n",
       "1              2.94            0.0           509                509   \n",
       "2              0.00            0.0         15101              15101   \n",
       "3             21.40            0.0            52                 52   \n",
       "4              2.22            0.0         12782              12782   \n",
       "\n",
       "   total_cat_offer_units  total_cat_offers  total_offer_dollars  user_age  \\\n",
       "0                 320768            266131                 0.00        48   \n",
       "1                 523671            431016              1935.96        33   \n",
       "2                1009064            960150             61198.25        22   \n",
       "3                   8713              8418               301.79        34   \n",
       "4                 830766            662543             66953.63        38   \n",
       "\n",
       "     velocity  target      prob  \n",
       "0    0.000000       0  0.075000  \n",
       "1   84.833333       1  0.135837  \n",
       "2  686.409091       0  0.179466  \n",
       "3    1.857143       0  0.079716  \n",
       "4  426.066667       0  0.050992  "
      ]
     },
     "metadata": {},
     "output_type": "display_data"
    }
   ],
   "source": [
    "print (other_test.columns)\n",
    "display (other_test.head())"
   ]
  },
  {
   "cell_type": "code",
   "execution_count": 10,
   "metadata": {},
   "outputs": [
    {
     "name": "stdout",
     "output_type": "stream",
     "text": [
      "    rank  cnt      prob  target\n",
      "19    19  339  0.661614     188\n",
      "18    18  339  0.312968      67\n",
      "17    17  339  0.206186      30\n",
      "16    16  338  0.159185      24\n",
      "15    15  340  0.127429      24\n",
      "14    14  339  0.106448      24\n",
      "13    13  339  0.091456      19\n",
      "12    12  339  0.078587      19\n",
      "11    11  338  0.068404      13\n",
      "10    10  340  0.058625      16\n"
     ]
    },
    {
     "data": {
      "image/png": "[encoded data removed]",
      "text/plain": [
       "<Figure size 432x288 with 1 Axes>"
      ]
     },
     "metadata": {
      "needs_background": "light"
     },
     "output_type": "display_data"
    },
    {
     "data": {
      "image/png": "[encoded data removed]",
      "text/plain": [
       "<Figure size 432x288 with 1 Axes>"
      ]
     },
     "metadata": {
      "needs_background": "light"
     },
     "output_type": "display_data"
    }
   ],
   "source": [
    "from imp import reload \n",
    "import Model\n",
    "reload(Model)\n",
    "\n",
    "Lift = Model.ModelLift(c=20)\n",
    "lift = Lift.calLift(other_test, target='target', prob='prob')\n",
    "Model.Plot(lift)"
   ]
  },
  {
   "cell_type": "code",
   "execution_count": null,
   "metadata": {},
   "outputs": [],
   "source": []
  },
  {
   "cell_type": "code",
   "execution_count": null,
   "metadata": {},
   "outputs": [],
   "source": []
  }
 ],
 "metadata": {
  "kernelspec": {
   "display_name": "conda_pytorch_p36",
   "language": "python",
   "name": "conda_pytorch_p36"
  },
  "language_info": {
   "codemirror_mode": {
    "name": "ipython",
    "version": 3
   },
   "file_extension": ".py",
   "mimetype": "text/x-python",
   "name": "python",
   "nbconvert_exporter": "python",
   "pygments_lexer": "ipython3",
   "version": "3.6.10"
  }
 },
 "nbformat": 4,
 "nbformat_minor": 4
}
